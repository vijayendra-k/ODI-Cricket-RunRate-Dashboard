{
 "cells": [
  {
   "cell_type": "markdown",
   "id": "98a3670c",
   "metadata": {},
   "source": [
    "Imported down all the necessary libraries which is thankfully just Pandas"
   ]
  },
  {
   "cell_type": "code",
   "execution_count": 1,
   "id": "d354d5f9",
   "metadata": {},
   "outputs": [],
   "source": [
    "import pandas as pd"
   ]
  },
  {
   "cell_type": "markdown",
   "id": "9a94a22d",
   "metadata": {},
   "source": [
    "Read the dataset using Pandas read_csv feature"
   ]
  },
  {
   "cell_type": "code",
   "execution_count": 2,
   "id": "34b65a8d",
   "metadata": {},
   "outputs": [
    {
     "name": "stderr",
     "output_type": "stream",
     "text": [
      "C:\\Users\\Vijay\\AppData\\Local\\Temp\\ipykernel_6308\\2538919985.py:1: DtypeWarning: Columns (41,52,53) have mixed types. Specify dtype option on import or set low_memory=False.\n",
      "  dataset=pd.read_csv('bbb_odi_data.csv')\n"
     ]
    }
   ],
   "source": [
    "dataset=pd.read_csv('bbb_odi_data.csv')"
   ]
  },
  {
   "cell_type": "markdown",
   "id": "612d1293",
   "metadata": {},
   "source": [
    "Filtered out the dataset to get the instances only where the Current run rate was <=5 during the course of the game"
   ]
  },
  {
   "cell_type": "code",
   "execution_count": 3,
   "id": "4f4eb1d3",
   "metadata": {},
   "outputs": [],
   "source": [
    "resultdf=dataset[(dataset['inns_rr']>5.00) & (dataset['inns_rr']<=6.50)]"
   ]
  },
  {
   "cell_type": "markdown",
   "id": "350ea86c",
   "metadata": {},
   "source": [
    "There are several columns and I chose only the ones meaningful to the related query by using a list."
   ]
  },
  {
   "cell_type": "code",
   "execution_count": 4,
   "id": "9c2e2817",
   "metadata": {},
   "outputs": [],
   "source": [
    "req_cols=['bat','batruns','ballfaced']"
   ]
  },
  {
   "cell_type": "markdown",
   "id": "b853168e",
   "metadata": {},
   "source": [
    "Now, my dataset is filtered out to get only the required columns"
   ]
  },
  {
   "cell_type": "code",
   "execution_count": 5,
   "id": "8720ccc5",
   "metadata": {},
   "outputs": [],
   "source": [
    "result=resultdf[req_cols]"
   ]
  },
  {
   "cell_type": "markdown",
   "id": "8019f3bd",
   "metadata": {},
   "source": [
    "Grouped sum of the required columns gives us the overall aggregate of the data. I've reset the columns as well to include the names as a row value in the dataset."
   ]
  },
  {
   "cell_type": "code",
   "execution_count": 6,
   "id": "d76f6adf",
   "metadata": {},
   "outputs": [],
   "source": [
    "grouped=result.groupby(['bat']).sum().reset_index()"
   ]
  },
  {
   "cell_type": "code",
   "execution_count": 7,
   "id": "dcfd3d13",
   "metadata": {},
   "outputs": [
    {
     "data": {
      "text/html": [
       "<div>\n",
       "<style scoped>\n",
       "    .dataframe tbody tr th:only-of-type {\n",
       "        vertical-align: middle;\n",
       "    }\n",
       "\n",
       "    .dataframe tbody tr th {\n",
       "        vertical-align: top;\n",
       "    }\n",
       "\n",
       "    .dataframe thead th {\n",
       "        text-align: right;\n",
       "    }\n",
       "</style>\n",
       "<table border=\"1\" class=\"dataframe\">\n",
       "  <thead>\n",
       "    <tr style=\"text-align: right;\">\n",
       "      <th></th>\n",
       "      <th>bat</th>\n",
       "      <th>batruns</th>\n",
       "      <th>ballfaced</th>\n",
       "    </tr>\n",
       "  </thead>\n",
       "  <tbody>\n",
       "    <tr>\n",
       "      <th>0</th>\n",
       "      <td>AB de Villiers</td>\n",
       "      <td>4408</td>\n",
       "      <td>3946</td>\n",
       "    </tr>\n",
       "    <tr>\n",
       "      <th>1</th>\n",
       "      <td>Aamer Yamin</td>\n",
       "      <td>15</td>\n",
       "      <td>12</td>\n",
       "    </tr>\n",
       "    <tr>\n",
       "      <th>2</th>\n",
       "      <td>Aamir Kaleem</td>\n",
       "      <td>5</td>\n",
       "      <td>8</td>\n",
       "    </tr>\n",
       "    <tr>\n",
       "      <th>3</th>\n",
       "      <td>Aarif Sheikh</td>\n",
       "      <td>156</td>\n",
       "      <td>214</td>\n",
       "    </tr>\n",
       "    <tr>\n",
       "      <th>4</th>\n",
       "      <td>Aaron Finch</td>\n",
       "      <td>3086</td>\n",
       "      <td>3119</td>\n",
       "    </tr>\n",
       "    <tr>\n",
       "      <th>...</th>\n",
       "      <td>...</td>\n",
       "      <td>...</td>\n",
       "      <td>...</td>\n",
       "    </tr>\n",
       "    <tr>\n",
       "      <th>1420</th>\n",
       "      <td>Zubayr Hamza</td>\n",
       "      <td>13</td>\n",
       "      <td>24</td>\n",
       "    </tr>\n",
       "    <tr>\n",
       "      <th>1421</th>\n",
       "      <td>Zubin Surkari</td>\n",
       "      <td>39</td>\n",
       "      <td>82</td>\n",
       "    </tr>\n",
       "    <tr>\n",
       "      <th>1422</th>\n",
       "      <td>Zulfiqar Babar</td>\n",
       "      <td>1</td>\n",
       "      <td>4</td>\n",
       "    </tr>\n",
       "    <tr>\n",
       "      <th>1423</th>\n",
       "      <td>Zulqarnain Haider</td>\n",
       "      <td>25</td>\n",
       "      <td>30</td>\n",
       "    </tr>\n",
       "    <tr>\n",
       "      <th>1424</th>\n",
       "      <td>Zunaed Siddique</td>\n",
       "      <td>251</td>\n",
       "      <td>317</td>\n",
       "    </tr>\n",
       "  </tbody>\n",
       "</table>\n",
       "<p>1425 rows × 3 columns</p>\n",
       "</div>"
      ],
      "text/plain": [
       "                    bat  batruns  ballfaced\n",
       "0        AB de Villiers     4408       3946\n",
       "1           Aamer Yamin       15         12\n",
       "2          Aamir Kaleem        5          8\n",
       "3          Aarif Sheikh      156        214\n",
       "4           Aaron Finch     3086       3119\n",
       "...                 ...      ...        ...\n",
       "1420       Zubayr Hamza       13         24\n",
       "1421      Zubin Surkari       39         82\n",
       "1422     Zulfiqar Babar        1          4\n",
       "1423  Zulqarnain Haider       25         30\n",
       "1424    Zunaed Siddique      251        317\n",
       "\n",
       "[1425 rows x 3 columns]"
      ]
     },
     "execution_count": 7,
     "metadata": {},
     "output_type": "execute_result"
    }
   ],
   "source": [
    "grouped"
   ]
  },
  {
   "cell_type": "markdown",
   "id": "fd0d0ec2",
   "metadata": {},
   "source": [
    "I've used this different approach to sum the dismissals because there are some run out dismissals and not always it has been the striker who has gotten out, so based on the who_out? column values summation, I've found out the number of dismissals in this specific filter. "
   ]
  },
  {
   "cell_type": "code",
   "execution_count": 8,
   "id": "4cecfad5",
   "metadata": {},
   "outputs": [],
   "source": [
    "dis=pd.DataFrame(resultdf['who_out?'].value_counts()).reset_index()"
   ]
  },
  {
   "cell_type": "markdown",
   "id": "5af88dbf",
   "metadata": {},
   "source": [
    "This is an attempt to make a similar column in both the dataframes, and use it for joins later."
   ]
  },
  {
   "cell_type": "code",
   "execution_count": 9,
   "id": "99e88788",
   "metadata": {},
   "outputs": [],
   "source": [
    "dis.rename({'index':'bat'},axis=1,inplace=True)"
   ]
  },
  {
   "cell_type": "code",
   "execution_count": 10,
   "id": "7727902c",
   "metadata": {},
   "outputs": [
    {
     "data": {
      "text/html": [
       "<div>\n",
       "<style scoped>\n",
       "    .dataframe tbody tr th:only-of-type {\n",
       "        vertical-align: middle;\n",
       "    }\n",
       "\n",
       "    .dataframe tbody tr th {\n",
       "        vertical-align: top;\n",
       "    }\n",
       "\n",
       "    .dataframe thead th {\n",
       "        text-align: right;\n",
       "    }\n",
       "</style>\n",
       "<table border=\"1\" class=\"dataframe\">\n",
       "  <thead>\n",
       "    <tr style=\"text-align: right;\">\n",
       "      <th></th>\n",
       "      <th>bat</th>\n",
       "      <th>who_out?</th>\n",
       "    </tr>\n",
       "  </thead>\n",
       "  <tbody>\n",
       "    <tr>\n",
       "      <th>0</th>\n",
       "      <td>Virat Kohli</td>\n",
       "      <td>108</td>\n",
       "    </tr>\n",
       "    <tr>\n",
       "      <th>1</th>\n",
       "      <td>Kumar Sangakkara</td>\n",
       "      <td>96</td>\n",
       "    </tr>\n",
       "    <tr>\n",
       "      <th>2</th>\n",
       "      <td>MS Dhoni</td>\n",
       "      <td>91</td>\n",
       "    </tr>\n",
       "    <tr>\n",
       "      <th>3</th>\n",
       "      <td>Tillakaratne Dilshan</td>\n",
       "      <td>88</td>\n",
       "    </tr>\n",
       "    <tr>\n",
       "      <th>4</th>\n",
       "      <td>Mahela Jayawardene</td>\n",
       "      <td>87</td>\n",
       "    </tr>\n",
       "    <tr>\n",
       "      <th>...</th>\n",
       "      <td>...</td>\n",
       "      <td>...</td>\n",
       "    </tr>\n",
       "    <tr>\n",
       "      <th>1193</th>\n",
       "      <td>Gulam Bodi</td>\n",
       "      <td>1</td>\n",
       "    </tr>\n",
       "    <tr>\n",
       "      <th>1194</th>\n",
       "      <td>Tim Seifert</td>\n",
       "      <td>1</td>\n",
       "    </tr>\n",
       "    <tr>\n",
       "      <th>1195</th>\n",
       "      <td>Paras Khadka</td>\n",
       "      <td>1</td>\n",
       "    </tr>\n",
       "    <tr>\n",
       "      <th>1196</th>\n",
       "      <td>Manoj Tiwary</td>\n",
       "      <td>1</td>\n",
       "    </tr>\n",
       "    <tr>\n",
       "      <th>1197</th>\n",
       "      <td>Shahid Ahmadzai</td>\n",
       "      <td>1</td>\n",
       "    </tr>\n",
       "  </tbody>\n",
       "</table>\n",
       "<p>1198 rows × 2 columns</p>\n",
       "</div>"
      ],
      "text/plain": [
       "                       bat  who_out?\n",
       "0              Virat Kohli       108\n",
       "1         Kumar Sangakkara        96\n",
       "2                 MS Dhoni        91\n",
       "3     Tillakaratne Dilshan        88\n",
       "4       Mahela Jayawardene        87\n",
       "...                    ...       ...\n",
       "1193            Gulam Bodi         1\n",
       "1194           Tim Seifert         1\n",
       "1195          Paras Khadka         1\n",
       "1196          Manoj Tiwary         1\n",
       "1197       Shahid Ahmadzai         1\n",
       "\n",
       "[1198 rows x 2 columns]"
      ]
     },
     "execution_count": 10,
     "metadata": {},
     "output_type": "execute_result"
    }
   ],
   "source": [
    "dis"
   ]
  },
  {
   "cell_type": "markdown",
   "id": "fbf7088b",
   "metadata": {},
   "source": [
    "A left join has been performed on the left dataset which is the grouped data and then they've been joined on 'bat' column"
   ]
  },
  {
   "cell_type": "code",
   "execution_count": 11,
   "id": "31d80b1c",
   "metadata": {},
   "outputs": [],
   "source": [
    "finalresult=pd.merge(grouped,dis,how='left',on='bat')"
   ]
  },
  {
   "cell_type": "markdown",
   "id": "40b40cde",
   "metadata": {},
   "source": [
    "Now, they've been sorted by descending order of 'batruns' and this operation has been performed in place to reflect the changes"
   ]
  },
  {
   "cell_type": "code",
   "execution_count": 12,
   "id": "68ac5602",
   "metadata": {},
   "outputs": [],
   "source": [
    "finalresult.sort_values(by='batruns',ascending=False,inplace=True)"
   ]
  },
  {
   "cell_type": "markdown",
   "id": "3f888509",
   "metadata": {},
   "source": [
    "The resultant column names have been renamed for easier interpretation"
   ]
  },
  {
   "cell_type": "code",
   "execution_count": 13,
   "id": "eb7af953",
   "metadata": {},
   "outputs": [],
   "source": [
    "finalresult.rename({'who_out?':'dismissals','batruns':'runs','ballfaced':'balls'},axis=1,inplace=True)"
   ]
  },
  {
   "cell_type": "code",
   "execution_count": 14,
   "id": "bcfe2ccd",
   "metadata": {},
   "outputs": [
    {
     "data": {
      "text/html": [
       "<div>\n",
       "<style scoped>\n",
       "    .dataframe tbody tr th:only-of-type {\n",
       "        vertical-align: middle;\n",
       "    }\n",
       "\n",
       "    .dataframe tbody tr th {\n",
       "        vertical-align: top;\n",
       "    }\n",
       "\n",
       "    .dataframe thead th {\n",
       "        text-align: right;\n",
       "    }\n",
       "</style>\n",
       "<table border=\"1\" class=\"dataframe\">\n",
       "  <thead>\n",
       "    <tr style=\"text-align: right;\">\n",
       "      <th></th>\n",
       "      <th>bat</th>\n",
       "      <th>runs</th>\n",
       "      <th>balls</th>\n",
       "      <th>dismissals</th>\n",
       "    </tr>\n",
       "  </thead>\n",
       "  <tbody>\n",
       "    <tr>\n",
       "      <th>1371</th>\n",
       "      <td>Virat Kohli</td>\n",
       "      <td>6849</td>\n",
       "      <td>6756</td>\n",
       "      <td>108.0</td>\n",
       "    </tr>\n",
       "    <tr>\n",
       "      <th>752</th>\n",
       "      <td>MS Dhoni</td>\n",
       "      <td>4992</td>\n",
       "      <td>4934</td>\n",
       "      <td>91.0</td>\n",
       "    </tr>\n",
       "    <tr>\n",
       "      <th>701</th>\n",
       "      <td>Kumar Sangakkara</td>\n",
       "      <td>4566</td>\n",
       "      <td>4590</td>\n",
       "      <td>96.0</td>\n",
       "    </tr>\n",
       "    <tr>\n",
       "      <th>1075</th>\n",
       "      <td>Rohit Sharma</td>\n",
       "      <td>4432</td>\n",
       "      <td>4244</td>\n",
       "      <td>78.0</td>\n",
       "    </tr>\n",
       "    <tr>\n",
       "      <th>0</th>\n",
       "      <td>AB de Villiers</td>\n",
       "      <td>4408</td>\n",
       "      <td>3946</td>\n",
       "      <td>79.0</td>\n",
       "    </tr>\n",
       "    <tr>\n",
       "      <th>...</th>\n",
       "      <td>...</td>\n",
       "      <td>...</td>\n",
       "      <td>...</td>\n",
       "      <td>...</td>\n",
       "    </tr>\n",
       "    <tr>\n",
       "      <th>717</th>\n",
       "      <td>Lahiru Gamage</td>\n",
       "      <td>0</td>\n",
       "      <td>2</td>\n",
       "      <td>NaN</td>\n",
       "    </tr>\n",
       "    <tr>\n",
       "      <th>952</th>\n",
       "      <td>Obed McCoy</td>\n",
       "      <td>0</td>\n",
       "      <td>1</td>\n",
       "      <td>NaN</td>\n",
       "    </tr>\n",
       "    <tr>\n",
       "      <th>1130</th>\n",
       "      <td>Sanjay Krishnamurthi</td>\n",
       "      <td>0</td>\n",
       "      <td>1</td>\n",
       "      <td>1.0</td>\n",
       "    </tr>\n",
       "    <tr>\n",
       "      <th>956</th>\n",
       "      <td>Omer Hussain</td>\n",
       "      <td>0</td>\n",
       "      <td>3</td>\n",
       "      <td>NaN</td>\n",
       "    </tr>\n",
       "    <tr>\n",
       "      <th>234</th>\n",
       "      <td>Cheteshwar Pujara</td>\n",
       "      <td>0</td>\n",
       "      <td>7</td>\n",
       "      <td>1.0</td>\n",
       "    </tr>\n",
       "  </tbody>\n",
       "</table>\n",
       "<p>1425 rows × 4 columns</p>\n",
       "</div>"
      ],
      "text/plain": [
       "                       bat  runs  balls  dismissals\n",
       "1371           Virat Kohli  6849   6756       108.0\n",
       "752               MS Dhoni  4992   4934        91.0\n",
       "701       Kumar Sangakkara  4566   4590        96.0\n",
       "1075          Rohit Sharma  4432   4244        78.0\n",
       "0           AB de Villiers  4408   3946        79.0\n",
       "...                    ...   ...    ...         ...\n",
       "717          Lahiru Gamage     0      2         NaN\n",
       "952             Obed McCoy     0      1         NaN\n",
       "1130  Sanjay Krishnamurthi     0      1         1.0\n",
       "956           Omer Hussain     0      3         NaN\n",
       "234      Cheteshwar Pujara     0      7         1.0\n",
       "\n",
       "[1425 rows x 4 columns]"
      ]
     },
     "execution_count": 14,
     "metadata": {},
     "output_type": "execute_result"
    }
   ],
   "source": [
    "finalresult"
   ]
  },
  {
   "cell_type": "markdown",
   "id": "18eb8a7a",
   "metadata": {},
   "source": [
    "Before performing mathematical operations to find out the averages and strike rates, I've actually verified if the data types are suitable for calculations or not. Since both are of the same 'integer' type, it is easier for me to perform the operations."
   ]
  },
  {
   "cell_type": "code",
   "execution_count": 15,
   "id": "7c68694b",
   "metadata": {},
   "outputs": [
    {
     "data": {
      "text/plain": [
       "bat            object\n",
       "runs            int64\n",
       "balls           int64\n",
       "dismissals    float64\n",
       "dtype: object"
      ]
     },
     "execution_count": 15,
     "metadata": {},
     "output_type": "execute_result"
    }
   ],
   "source": [
    "finalresult.dtypes"
   ]
  },
  {
   "cell_type": "markdown",
   "id": "66c5c474",
   "metadata": {},
   "source": [
    "The averages and Runs Per Over (rpo) were calculated from the existing data and were rounded off to the 2 nearest decimal places."
   ]
  },
  {
   "cell_type": "code",
   "execution_count": 16,
   "id": "40ee41a0",
   "metadata": {},
   "outputs": [],
   "source": [
    "finalresult['avg']=(finalresult['runs']/finalresult['dismissals'])\n",
    "finalresult['avg']=round(finalresult['avg'],2)"
   ]
  },
  {
   "cell_type": "code",
   "execution_count": 17,
   "id": "c0cc5e2b",
   "metadata": {},
   "outputs": [],
   "source": [
    "finalresult['rpo']=(finalresult['runs']*6/finalresult['balls'])\n",
    "finalresult['rpo']=round(finalresult['rpo'],2)"
   ]
  },
  {
   "cell_type": "markdown",
   "id": "6a9e0c4a",
   "metadata": {},
   "source": [
    "The end result has been saved to a csv file to use them further for visualizations on tableau"
   ]
  },
  {
   "cell_type": "code",
   "execution_count": 18,
   "id": "67c91703",
   "metadata": {},
   "outputs": [],
   "source": [
    "finalresult.to_csv('under6andhalf.csv')"
   ]
  },
  {
   "cell_type": "code",
   "execution_count": 19,
   "id": "4c920fce",
   "metadata": {},
   "outputs": [
    {
     "data": {
      "text/html": [
       "<div>\n",
       "<style scoped>\n",
       "    .dataframe tbody tr th:only-of-type {\n",
       "        vertical-align: middle;\n",
       "    }\n",
       "\n",
       "    .dataframe tbody tr th {\n",
       "        vertical-align: top;\n",
       "    }\n",
       "\n",
       "    .dataframe thead th {\n",
       "        text-align: right;\n",
       "    }\n",
       "</style>\n",
       "<table border=\"1\" class=\"dataframe\">\n",
       "  <thead>\n",
       "    <tr style=\"text-align: right;\">\n",
       "      <th></th>\n",
       "      <th>bat</th>\n",
       "      <th>runs</th>\n",
       "      <th>balls</th>\n",
       "      <th>dismissals</th>\n",
       "      <th>avg</th>\n",
       "      <th>rpo</th>\n",
       "    </tr>\n",
       "  </thead>\n",
       "  <tbody>\n",
       "    <tr>\n",
       "      <th>1371</th>\n",
       "      <td>Virat Kohli</td>\n",
       "      <td>6849</td>\n",
       "      <td>6756</td>\n",
       "      <td>108.0</td>\n",
       "      <td>63.42</td>\n",
       "      <td>6.08</td>\n",
       "    </tr>\n",
       "    <tr>\n",
       "      <th>752</th>\n",
       "      <td>MS Dhoni</td>\n",
       "      <td>4992</td>\n",
       "      <td>4934</td>\n",
       "      <td>91.0</td>\n",
       "      <td>54.86</td>\n",
       "      <td>6.07</td>\n",
       "    </tr>\n",
       "    <tr>\n",
       "      <th>701</th>\n",
       "      <td>Kumar Sangakkara</td>\n",
       "      <td>4566</td>\n",
       "      <td>4590</td>\n",
       "      <td>96.0</td>\n",
       "      <td>47.56</td>\n",
       "      <td>5.97</td>\n",
       "    </tr>\n",
       "    <tr>\n",
       "      <th>1075</th>\n",
       "      <td>Rohit Sharma</td>\n",
       "      <td>4432</td>\n",
       "      <td>4244</td>\n",
       "      <td>78.0</td>\n",
       "      <td>56.82</td>\n",
       "      <td>6.27</td>\n",
       "    </tr>\n",
       "    <tr>\n",
       "      <th>0</th>\n",
       "      <td>AB de Villiers</td>\n",
       "      <td>4408</td>\n",
       "      <td>3946</td>\n",
       "      <td>79.0</td>\n",
       "      <td>55.80</td>\n",
       "      <td>6.70</td>\n",
       "    </tr>\n",
       "    <tr>\n",
       "      <th>...</th>\n",
       "      <td>...</td>\n",
       "      <td>...</td>\n",
       "      <td>...</td>\n",
       "      <td>...</td>\n",
       "      <td>...</td>\n",
       "      <td>...</td>\n",
       "    </tr>\n",
       "    <tr>\n",
       "      <th>717</th>\n",
       "      <td>Lahiru Gamage</td>\n",
       "      <td>0</td>\n",
       "      <td>2</td>\n",
       "      <td>NaN</td>\n",
       "      <td>NaN</td>\n",
       "      <td>0.00</td>\n",
       "    </tr>\n",
       "    <tr>\n",
       "      <th>952</th>\n",
       "      <td>Obed McCoy</td>\n",
       "      <td>0</td>\n",
       "      <td>1</td>\n",
       "      <td>NaN</td>\n",
       "      <td>NaN</td>\n",
       "      <td>0.00</td>\n",
       "    </tr>\n",
       "    <tr>\n",
       "      <th>1130</th>\n",
       "      <td>Sanjay Krishnamurthi</td>\n",
       "      <td>0</td>\n",
       "      <td>1</td>\n",
       "      <td>1.0</td>\n",
       "      <td>0.00</td>\n",
       "      <td>0.00</td>\n",
       "    </tr>\n",
       "    <tr>\n",
       "      <th>956</th>\n",
       "      <td>Omer Hussain</td>\n",
       "      <td>0</td>\n",
       "      <td>3</td>\n",
       "      <td>NaN</td>\n",
       "      <td>NaN</td>\n",
       "      <td>0.00</td>\n",
       "    </tr>\n",
       "    <tr>\n",
       "      <th>234</th>\n",
       "      <td>Cheteshwar Pujara</td>\n",
       "      <td>0</td>\n",
       "      <td>7</td>\n",
       "      <td>1.0</td>\n",
       "      <td>0.00</td>\n",
       "      <td>0.00</td>\n",
       "    </tr>\n",
       "  </tbody>\n",
       "</table>\n",
       "<p>1425 rows × 6 columns</p>\n",
       "</div>"
      ],
      "text/plain": [
       "                       bat  runs  balls  dismissals    avg   rpo\n",
       "1371           Virat Kohli  6849   6756       108.0  63.42  6.08\n",
       "752               MS Dhoni  4992   4934        91.0  54.86  6.07\n",
       "701       Kumar Sangakkara  4566   4590        96.0  47.56  5.97\n",
       "1075          Rohit Sharma  4432   4244        78.0  56.82  6.27\n",
       "0           AB de Villiers  4408   3946        79.0  55.80  6.70\n",
       "...                    ...   ...    ...         ...    ...   ...\n",
       "717          Lahiru Gamage     0      2         NaN    NaN  0.00\n",
       "952             Obed McCoy     0      1         NaN    NaN  0.00\n",
       "1130  Sanjay Krishnamurthi     0      1         1.0   0.00  0.00\n",
       "956           Omer Hussain     0      3         NaN    NaN  0.00\n",
       "234      Cheteshwar Pujara     0      7         1.0   0.00  0.00\n",
       "\n",
       "[1425 rows x 6 columns]"
      ]
     },
     "execution_count": 19,
     "metadata": {},
     "output_type": "execute_result"
    }
   ],
   "source": [
    "finalresult"
   ]
  }
 ],
 "metadata": {
  "kernelspec": {
   "display_name": "Python 3 (ipykernel)",
   "language": "python",
   "name": "python3"
  },
  "language_info": {
   "codemirror_mode": {
    "name": "ipython",
    "version": 3
   },
   "file_extension": ".py",
   "mimetype": "text/x-python",
   "name": "python",
   "nbconvert_exporter": "python",
   "pygments_lexer": "ipython3",
   "version": "3.11.1"
  }
 },
 "nbformat": 4,
 "nbformat_minor": 5
}
