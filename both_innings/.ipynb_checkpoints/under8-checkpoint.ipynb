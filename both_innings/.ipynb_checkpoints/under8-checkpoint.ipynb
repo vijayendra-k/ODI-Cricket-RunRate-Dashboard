{
 "cells": [
  {
   "cell_type": "markdown",
   "id": "98a3670c",
   "metadata": {},
   "source": [
    "Imported down all the necessary libraries which is thankfully just Pandas"
   ]
  },
  {
   "cell_type": "code",
   "execution_count": 1,
   "id": "d354d5f9",
   "metadata": {},
   "outputs": [],
   "source": [
    "import pandas as pd"
   ]
  },
  {
   "cell_type": "markdown",
   "id": "9a94a22d",
   "metadata": {},
   "source": [
    "Read the dataset using Pandas read_csv feature"
   ]
  },
  {
   "cell_type": "code",
   "execution_count": 2,
   "id": "34b65a8d",
   "metadata": {},
   "outputs": [
    {
     "name": "stderr",
     "output_type": "stream",
     "text": [
      "C:\\Users\\Vijay\\AppData\\Local\\Temp\\ipykernel_7008\\2538919985.py:1: DtypeWarning: Columns (41,52,53) have mixed types. Specify dtype option on import or set low_memory=False.\n",
      "  dataset=pd.read_csv('bbb_odi_data.csv')\n"
     ]
    }
   ],
   "source": [
    "dataset=pd.read_csv('bbb_odi_data.csv')"
   ]
  },
  {
   "cell_type": "markdown",
   "id": "612d1293",
   "metadata": {},
   "source": [
    "Filtered out the dataset to get the instances only where the Current run rate was <=5 during the course of the game"
   ]
  },
  {
   "cell_type": "code",
   "execution_count": 3,
   "id": "4f4eb1d3",
   "metadata": {},
   "outputs": [],
   "source": [
    "resultdf=dataset[(dataset['inns_rr']>6.50) & (dataset['inns_rr']<=8.00)]"
   ]
  },
  {
   "cell_type": "markdown",
   "id": "350ea86c",
   "metadata": {},
   "source": [
    "There are several columns and I chose only the ones meaningful to the related query by using a list."
   ]
  },
  {
   "cell_type": "code",
   "execution_count": 4,
   "id": "9c2e2817",
   "metadata": {},
   "outputs": [],
   "source": [
    "req_cols=['bat','batruns','ballfaced']"
   ]
  },
  {
   "cell_type": "markdown",
   "id": "b853168e",
   "metadata": {},
   "source": [
    "Now, my dataset is filtered out to get only the required columns"
   ]
  },
  {
   "cell_type": "code",
   "execution_count": 5,
   "id": "8720ccc5",
   "metadata": {},
   "outputs": [],
   "source": [
    "result=resultdf[req_cols]"
   ]
  },
  {
   "cell_type": "markdown",
   "id": "8019f3bd",
   "metadata": {},
   "source": [
    "Grouped sum of the required columns gives us the overall aggregate of the data. I've reset the columns as well to include the names as a row value in the dataset."
   ]
  },
  {
   "cell_type": "code",
   "execution_count": 6,
   "id": "d76f6adf",
   "metadata": {},
   "outputs": [],
   "source": [
    "grouped=result.groupby(['bat']).sum().reset_index()"
   ]
  },
  {
   "cell_type": "code",
   "execution_count": 7,
   "id": "dcfd3d13",
   "metadata": {},
   "outputs": [
    {
     "data": {
      "text/html": [
       "<div>\n",
       "<style scoped>\n",
       "    .dataframe tbody tr th:only-of-type {\n",
       "        vertical-align: middle;\n",
       "    }\n",
       "\n",
       "    .dataframe tbody tr th {\n",
       "        vertical-align: top;\n",
       "    }\n",
       "\n",
       "    .dataframe thead th {\n",
       "        text-align: right;\n",
       "    }\n",
       "</style>\n",
       "<table border=\"1\" class=\"dataframe\">\n",
       "  <thead>\n",
       "    <tr style=\"text-align: right;\">\n",
       "      <th></th>\n",
       "      <th>bat</th>\n",
       "      <th>batruns</th>\n",
       "      <th>ballfaced</th>\n",
       "    </tr>\n",
       "  </thead>\n",
       "  <tbody>\n",
       "    <tr>\n",
       "      <th>0</th>\n",
       "      <td>AB de Villiers</td>\n",
       "      <td>881</td>\n",
       "      <td>506</td>\n",
       "    </tr>\n",
       "    <tr>\n",
       "      <th>1</th>\n",
       "      <td>Aarif Sheikh</td>\n",
       "      <td>0</td>\n",
       "      <td>3</td>\n",
       "    </tr>\n",
       "    <tr>\n",
       "      <th>2</th>\n",
       "      <td>Aaron Finch</td>\n",
       "      <td>510</td>\n",
       "      <td>495</td>\n",
       "    </tr>\n",
       "    <tr>\n",
       "      <th>3</th>\n",
       "      <td>Aaron Hardie</td>\n",
       "      <td>3</td>\n",
       "      <td>5</td>\n",
       "    </tr>\n",
       "    <tr>\n",
       "      <th>4</th>\n",
       "      <td>Aaron Johnson</td>\n",
       "      <td>47</td>\n",
       "      <td>22</td>\n",
       "    </tr>\n",
       "    <tr>\n",
       "      <th>...</th>\n",
       "      <td>...</td>\n",
       "      <td>...</td>\n",
       "      <td>...</td>\n",
       "    </tr>\n",
       "    <tr>\n",
       "      <th>766</th>\n",
       "      <td>Zawar Farid</td>\n",
       "      <td>8</td>\n",
       "      <td>2</td>\n",
       "    </tr>\n",
       "    <tr>\n",
       "      <th>767</th>\n",
       "      <td>Zeeshan Maqsood</td>\n",
       "      <td>2</td>\n",
       "      <td>2</td>\n",
       "    </tr>\n",
       "    <tr>\n",
       "      <th>768</th>\n",
       "      <td>Ziaur Rahman</td>\n",
       "      <td>2</td>\n",
       "      <td>7</td>\n",
       "    </tr>\n",
       "    <tr>\n",
       "      <th>769</th>\n",
       "      <td>Zubin Surkari</td>\n",
       "      <td>16</td>\n",
       "      <td>24</td>\n",
       "    </tr>\n",
       "    <tr>\n",
       "      <th>770</th>\n",
       "      <td>Zunaed Siddique</td>\n",
       "      <td>60</td>\n",
       "      <td>59</td>\n",
       "    </tr>\n",
       "  </tbody>\n",
       "</table>\n",
       "<p>771 rows × 3 columns</p>\n",
       "</div>"
      ],
      "text/plain": [
       "                 bat  batruns  ballfaced\n",
       "0     AB de Villiers      881        506\n",
       "1       Aarif Sheikh        0          3\n",
       "2        Aaron Finch      510        495\n",
       "3       Aaron Hardie        3          5\n",
       "4      Aaron Johnson       47         22\n",
       "..               ...      ...        ...\n",
       "766      Zawar Farid        8          2\n",
       "767  Zeeshan Maqsood        2          2\n",
       "768     Ziaur Rahman        2          7\n",
       "769    Zubin Surkari       16         24\n",
       "770  Zunaed Siddique       60         59\n",
       "\n",
       "[771 rows x 3 columns]"
      ]
     },
     "execution_count": 7,
     "metadata": {},
     "output_type": "execute_result"
    }
   ],
   "source": [
    "grouped"
   ]
  },
  {
   "cell_type": "markdown",
   "id": "fd0d0ec2",
   "metadata": {},
   "source": [
    "I've used this different approach to sum the dismissals because there are some run out dismissals and not always it has been the striker who has gotten out, so based on the who_out? column values summation, I've found out the number of dismissals in this specific filter. "
   ]
  },
  {
   "cell_type": "code",
   "execution_count": 8,
   "id": "4cecfad5",
   "metadata": {},
   "outputs": [],
   "source": [
    "dis=pd.DataFrame(resultdf['who_out?'].value_counts()).reset_index()"
   ]
  },
  {
   "cell_type": "markdown",
   "id": "5af88dbf",
   "metadata": {},
   "source": [
    "This is an attempt to make a similar column in both the dataframes, and use it for joins later."
   ]
  },
  {
   "cell_type": "code",
   "execution_count": 9,
   "id": "99e88788",
   "metadata": {},
   "outputs": [],
   "source": [
    "dis.rename({'index':'bat'},axis=1,inplace=True)"
   ]
  },
  {
   "cell_type": "code",
   "execution_count": 10,
   "id": "7727902c",
   "metadata": {},
   "outputs": [
    {
     "data": {
      "text/html": [
       "<div>\n",
       "<style scoped>\n",
       "    .dataframe tbody tr th:only-of-type {\n",
       "        vertical-align: middle;\n",
       "    }\n",
       "\n",
       "    .dataframe tbody tr th {\n",
       "        vertical-align: top;\n",
       "    }\n",
       "\n",
       "    .dataframe thead th {\n",
       "        text-align: right;\n",
       "    }\n",
       "</style>\n",
       "<table border=\"1\" class=\"dataframe\">\n",
       "  <thead>\n",
       "    <tr style=\"text-align: right;\">\n",
       "      <th></th>\n",
       "      <th>bat</th>\n",
       "      <th>who_out?</th>\n",
       "    </tr>\n",
       "  </thead>\n",
       "  <tbody>\n",
       "    <tr>\n",
       "      <th>0</th>\n",
       "      <td>Eoin Morgan</td>\n",
       "      <td>30</td>\n",
       "    </tr>\n",
       "    <tr>\n",
       "      <th>1</th>\n",
       "      <td>Virat Kohli</td>\n",
       "      <td>29</td>\n",
       "    </tr>\n",
       "    <tr>\n",
       "      <th>2</th>\n",
       "      <td>Rohit Sharma</td>\n",
       "      <td>24</td>\n",
       "    </tr>\n",
       "    <tr>\n",
       "      <th>3</th>\n",
       "      <td>David Warner</td>\n",
       "      <td>22</td>\n",
       "    </tr>\n",
       "    <tr>\n",
       "      <th>4</th>\n",
       "      <td>Moeen Ali</td>\n",
       "      <td>22</td>\n",
       "    </tr>\n",
       "    <tr>\n",
       "      <th>...</th>\n",
       "      <td>...</td>\n",
       "      <td>...</td>\n",
       "    </tr>\n",
       "    <tr>\n",
       "      <th>516</th>\n",
       "      <td>Sachith Pathirana</td>\n",
       "      <td>1</td>\n",
       "    </tr>\n",
       "    <tr>\n",
       "      <th>517</th>\n",
       "      <td>Nuwan Kulasekara</td>\n",
       "      <td>1</td>\n",
       "    </tr>\n",
       "    <tr>\n",
       "      <th>518</th>\n",
       "      <td>Akila Dananjaya</td>\n",
       "      <td>1</td>\n",
       "    </tr>\n",
       "    <tr>\n",
       "      <th>519</th>\n",
       "      <td>Amila Aponso</td>\n",
       "      <td>1</td>\n",
       "    </tr>\n",
       "    <tr>\n",
       "      <th>520</th>\n",
       "      <td>Navneet Dhaliwal</td>\n",
       "      <td>1</td>\n",
       "    </tr>\n",
       "  </tbody>\n",
       "</table>\n",
       "<p>521 rows × 2 columns</p>\n",
       "</div>"
      ],
      "text/plain": [
       "                   bat  who_out?\n",
       "0          Eoin Morgan        30\n",
       "1          Virat Kohli        29\n",
       "2         Rohit Sharma        24\n",
       "3         David Warner        22\n",
       "4            Moeen Ali        22\n",
       "..                 ...       ...\n",
       "516  Sachith Pathirana         1\n",
       "517   Nuwan Kulasekara         1\n",
       "518    Akila Dananjaya         1\n",
       "519       Amila Aponso         1\n",
       "520   Navneet Dhaliwal         1\n",
       "\n",
       "[521 rows x 2 columns]"
      ]
     },
     "execution_count": 10,
     "metadata": {},
     "output_type": "execute_result"
    }
   ],
   "source": [
    "dis"
   ]
  },
  {
   "cell_type": "markdown",
   "id": "fbf7088b",
   "metadata": {},
   "source": [
    "A left join has been performed on the left dataset which is the grouped data and then they've been joined on 'bat' column"
   ]
  },
  {
   "cell_type": "code",
   "execution_count": 11,
   "id": "31d80b1c",
   "metadata": {},
   "outputs": [],
   "source": [
    "finalresult=pd.merge(grouped,dis,how='left',on='bat')"
   ]
  },
  {
   "cell_type": "markdown",
   "id": "40b40cde",
   "metadata": {},
   "source": [
    "Now, they've been sorted by descending order of 'batruns' and this operation has been performed in place to reflect the changes"
   ]
  },
  {
   "cell_type": "code",
   "execution_count": 12,
   "id": "68ac5602",
   "metadata": {},
   "outputs": [],
   "source": [
    "finalresult.sort_values(by='batruns',ascending=False,inplace=True)"
   ]
  },
  {
   "cell_type": "markdown",
   "id": "3f888509",
   "metadata": {},
   "source": [
    "The resultant column names have been renamed for easier interpretation"
   ]
  },
  {
   "cell_type": "code",
   "execution_count": 13,
   "id": "eb7af953",
   "metadata": {},
   "outputs": [],
   "source": [
    "finalresult.rename({'who_out?':'dismissals','batruns':'runs','ballfaced':'balls'},axis=1,inplace=True)"
   ]
  },
  {
   "cell_type": "code",
   "execution_count": 14,
   "id": "bcfe2ccd",
   "metadata": {},
   "outputs": [
    {
     "data": {
      "text/html": [
       "<div>\n",
       "<style scoped>\n",
       "    .dataframe tbody tr th:only-of-type {\n",
       "        vertical-align: middle;\n",
       "    }\n",
       "\n",
       "    .dataframe tbody tr th {\n",
       "        vertical-align: top;\n",
       "    }\n",
       "\n",
       "    .dataframe thead th {\n",
       "        text-align: right;\n",
       "    }\n",
       "</style>\n",
       "<table border=\"1\" class=\"dataframe\">\n",
       "  <thead>\n",
       "    <tr style=\"text-align: right;\">\n",
       "      <th></th>\n",
       "      <th>bat</th>\n",
       "      <th>runs</th>\n",
       "      <th>balls</th>\n",
       "      <th>dismissals</th>\n",
       "    </tr>\n",
       "  </thead>\n",
       "  <tbody>\n",
       "    <tr>\n",
       "      <th>739</th>\n",
       "      <td>Virat Kohli</td>\n",
       "      <td>1986</td>\n",
       "      <td>1610</td>\n",
       "      <td>29.0</td>\n",
       "    </tr>\n",
       "    <tr>\n",
       "      <th>570</th>\n",
       "      <td>Rohit Sharma</td>\n",
       "      <td>1756</td>\n",
       "      <td>1209</td>\n",
       "      <td>24.0</td>\n",
       "    </tr>\n",
       "    <tr>\n",
       "      <th>299</th>\n",
       "      <td>Jason Roy</td>\n",
       "      <td>1477</td>\n",
       "      <td>1114</td>\n",
       "      <td>21.0</td>\n",
       "    </tr>\n",
       "    <tr>\n",
       "      <th>164</th>\n",
       "      <td>David Warner</td>\n",
       "      <td>1275</td>\n",
       "      <td>923</td>\n",
       "      <td>22.0</td>\n",
       "    </tr>\n",
       "    <tr>\n",
       "      <th>323</th>\n",
       "      <td>Jonny Bairstow</td>\n",
       "      <td>1243</td>\n",
       "      <td>886</td>\n",
       "      <td>16.0</td>\n",
       "    </tr>\n",
       "    <tr>\n",
       "      <th>...</th>\n",
       "      <td>...</td>\n",
       "      <td>...</td>\n",
       "      <td>...</td>\n",
       "      <td>...</td>\n",
       "    </tr>\n",
       "    <tr>\n",
       "      <th>529</th>\n",
       "      <td>Prasidh Krishna</td>\n",
       "      <td>0</td>\n",
       "      <td>3</td>\n",
       "      <td>1.0</td>\n",
       "    </tr>\n",
       "    <tr>\n",
       "      <th>215</th>\n",
       "      <td>Gary Ballance</td>\n",
       "      <td>0</td>\n",
       "      <td>2</td>\n",
       "      <td>NaN</td>\n",
       "    </tr>\n",
       "    <tr>\n",
       "      <th>553</th>\n",
       "      <td>Riaz Hassan</td>\n",
       "      <td>0</td>\n",
       "      <td>1</td>\n",
       "      <td>1.0</td>\n",
       "    </tr>\n",
       "    <tr>\n",
       "      <th>232</th>\n",
       "      <td>Greg Lamb</td>\n",
       "      <td>0</td>\n",
       "      <td>1</td>\n",
       "      <td>NaN</td>\n",
       "    </tr>\n",
       "    <tr>\n",
       "      <th>509</th>\n",
       "      <td>Nuwanidu Fernando</td>\n",
       "      <td>0</td>\n",
       "      <td>3</td>\n",
       "      <td>NaN</td>\n",
       "    </tr>\n",
       "  </tbody>\n",
       "</table>\n",
       "<p>771 rows × 4 columns</p>\n",
       "</div>"
      ],
      "text/plain": [
       "                   bat  runs  balls  dismissals\n",
       "739        Virat Kohli  1986   1610        29.0\n",
       "570       Rohit Sharma  1756   1209        24.0\n",
       "299          Jason Roy  1477   1114        21.0\n",
       "164       David Warner  1275    923        22.0\n",
       "323     Jonny Bairstow  1243    886        16.0\n",
       "..                 ...   ...    ...         ...\n",
       "529    Prasidh Krishna     0      3         1.0\n",
       "215      Gary Ballance     0      2         NaN\n",
       "553        Riaz Hassan     0      1         1.0\n",
       "232          Greg Lamb     0      1         NaN\n",
       "509  Nuwanidu Fernando     0      3         NaN\n",
       "\n",
       "[771 rows x 4 columns]"
      ]
     },
     "execution_count": 14,
     "metadata": {},
     "output_type": "execute_result"
    }
   ],
   "source": [
    "finalresult"
   ]
  },
  {
   "cell_type": "markdown",
   "id": "18eb8a7a",
   "metadata": {},
   "source": [
    "Before performing mathematical operations to find out the averages and strike rates, I've actually verified if the data types are suitable for calculations or not. Since both are of the same 'integer' type, it is easier for me to perform the operations."
   ]
  },
  {
   "cell_type": "code",
   "execution_count": 15,
   "id": "7c68694b",
   "metadata": {},
   "outputs": [
    {
     "data": {
      "text/plain": [
       "bat            object\n",
       "runs            int64\n",
       "balls           int64\n",
       "dismissals    float64\n",
       "dtype: object"
      ]
     },
     "execution_count": 15,
     "metadata": {},
     "output_type": "execute_result"
    }
   ],
   "source": [
    "finalresult.dtypes"
   ]
  },
  {
   "cell_type": "markdown",
   "id": "66c5c474",
   "metadata": {},
   "source": [
    "The averages and Runs Per Over (rpo) were calculated from the existing data and were rounded off to the 2 nearest decimal places."
   ]
  },
  {
   "cell_type": "code",
   "execution_count": 16,
   "id": "40ee41a0",
   "metadata": {},
   "outputs": [],
   "source": [
    "finalresult['avg']=(finalresult['runs']/finalresult['dismissals'])\n",
    "finalresult['avg']=round(finalresult['avg'],2)"
   ]
  },
  {
   "cell_type": "code",
   "execution_count": 17,
   "id": "c0cc5e2b",
   "metadata": {},
   "outputs": [],
   "source": [
    "finalresult['rpo']=(finalresult['runs']*6/finalresult['balls'])\n",
    "finalresult['rpo']=round(finalresult['rpo'],2)"
   ]
  },
  {
   "cell_type": "markdown",
   "id": "6a9e0c4a",
   "metadata": {},
   "source": [
    "The end result has been saved to a csv file to use them further for visualizations on tableau"
   ]
  },
  {
   "cell_type": "code",
   "execution_count": 18,
   "id": "67c91703",
   "metadata": {},
   "outputs": [],
   "source": [
    "finalresult.to_csv('under8.csv')"
   ]
  },
  {
   "cell_type": "code",
   "execution_count": 19,
   "id": "4c920fce",
   "metadata": {},
   "outputs": [
    {
     "data": {
      "text/html": [
       "<div>\n",
       "<style scoped>\n",
       "    .dataframe tbody tr th:only-of-type {\n",
       "        vertical-align: middle;\n",
       "    }\n",
       "\n",
       "    .dataframe tbody tr th {\n",
       "        vertical-align: top;\n",
       "    }\n",
       "\n",
       "    .dataframe thead th {\n",
       "        text-align: right;\n",
       "    }\n",
       "</style>\n",
       "<table border=\"1\" class=\"dataframe\">\n",
       "  <thead>\n",
       "    <tr style=\"text-align: right;\">\n",
       "      <th></th>\n",
       "      <th>bat</th>\n",
       "      <th>runs</th>\n",
       "      <th>balls</th>\n",
       "      <th>dismissals</th>\n",
       "      <th>avg</th>\n",
       "      <th>rpo</th>\n",
       "    </tr>\n",
       "  </thead>\n",
       "  <tbody>\n",
       "    <tr>\n",
       "      <th>739</th>\n",
       "      <td>Virat Kohli</td>\n",
       "      <td>1986</td>\n",
       "      <td>1610</td>\n",
       "      <td>29.0</td>\n",
       "      <td>68.48</td>\n",
       "      <td>7.40</td>\n",
       "    </tr>\n",
       "    <tr>\n",
       "      <th>570</th>\n",
       "      <td>Rohit Sharma</td>\n",
       "      <td>1756</td>\n",
       "      <td>1209</td>\n",
       "      <td>24.0</td>\n",
       "      <td>73.17</td>\n",
       "      <td>8.71</td>\n",
       "    </tr>\n",
       "    <tr>\n",
       "      <th>299</th>\n",
       "      <td>Jason Roy</td>\n",
       "      <td>1477</td>\n",
       "      <td>1114</td>\n",
       "      <td>21.0</td>\n",
       "      <td>70.33</td>\n",
       "      <td>7.96</td>\n",
       "    </tr>\n",
       "    <tr>\n",
       "      <th>164</th>\n",
       "      <td>David Warner</td>\n",
       "      <td>1275</td>\n",
       "      <td>923</td>\n",
       "      <td>22.0</td>\n",
       "      <td>57.95</td>\n",
       "      <td>8.29</td>\n",
       "    </tr>\n",
       "    <tr>\n",
       "      <th>323</th>\n",
       "      <td>Jonny Bairstow</td>\n",
       "      <td>1243</td>\n",
       "      <td>886</td>\n",
       "      <td>16.0</td>\n",
       "      <td>77.69</td>\n",
       "      <td>8.42</td>\n",
       "    </tr>\n",
       "    <tr>\n",
       "      <th>...</th>\n",
       "      <td>...</td>\n",
       "      <td>...</td>\n",
       "      <td>...</td>\n",
       "      <td>...</td>\n",
       "      <td>...</td>\n",
       "      <td>...</td>\n",
       "    </tr>\n",
       "    <tr>\n",
       "      <th>529</th>\n",
       "      <td>Prasidh Krishna</td>\n",
       "      <td>0</td>\n",
       "      <td>3</td>\n",
       "      <td>1.0</td>\n",
       "      <td>0.00</td>\n",
       "      <td>0.00</td>\n",
       "    </tr>\n",
       "    <tr>\n",
       "      <th>215</th>\n",
       "      <td>Gary Ballance</td>\n",
       "      <td>0</td>\n",
       "      <td>2</td>\n",
       "      <td>NaN</td>\n",
       "      <td>NaN</td>\n",
       "      <td>0.00</td>\n",
       "    </tr>\n",
       "    <tr>\n",
       "      <th>553</th>\n",
       "      <td>Riaz Hassan</td>\n",
       "      <td>0</td>\n",
       "      <td>1</td>\n",
       "      <td>1.0</td>\n",
       "      <td>0.00</td>\n",
       "      <td>0.00</td>\n",
       "    </tr>\n",
       "    <tr>\n",
       "      <th>232</th>\n",
       "      <td>Greg Lamb</td>\n",
       "      <td>0</td>\n",
       "      <td>1</td>\n",
       "      <td>NaN</td>\n",
       "      <td>NaN</td>\n",
       "      <td>0.00</td>\n",
       "    </tr>\n",
       "    <tr>\n",
       "      <th>509</th>\n",
       "      <td>Nuwanidu Fernando</td>\n",
       "      <td>0</td>\n",
       "      <td>3</td>\n",
       "      <td>NaN</td>\n",
       "      <td>NaN</td>\n",
       "      <td>0.00</td>\n",
       "    </tr>\n",
       "  </tbody>\n",
       "</table>\n",
       "<p>771 rows × 6 columns</p>\n",
       "</div>"
      ],
      "text/plain": [
       "                   bat  runs  balls  dismissals    avg   rpo\n",
       "739        Virat Kohli  1986   1610        29.0  68.48  7.40\n",
       "570       Rohit Sharma  1756   1209        24.0  73.17  8.71\n",
       "299          Jason Roy  1477   1114        21.0  70.33  7.96\n",
       "164       David Warner  1275    923        22.0  57.95  8.29\n",
       "323     Jonny Bairstow  1243    886        16.0  77.69  8.42\n",
       "..                 ...   ...    ...         ...    ...   ...\n",
       "529    Prasidh Krishna     0      3         1.0   0.00  0.00\n",
       "215      Gary Ballance     0      2         NaN    NaN  0.00\n",
       "553        Riaz Hassan     0      1         1.0   0.00  0.00\n",
       "232          Greg Lamb     0      1         NaN    NaN  0.00\n",
       "509  Nuwanidu Fernando     0      3         NaN    NaN  0.00\n",
       "\n",
       "[771 rows x 6 columns]"
      ]
     },
     "execution_count": 19,
     "metadata": {},
     "output_type": "execute_result"
    }
   ],
   "source": [
    "finalresult"
   ]
  }
 ],
 "metadata": {
  "kernelspec": {
   "display_name": "Python 3 (ipykernel)",
   "language": "python",
   "name": "python3"
  },
  "language_info": {
   "codemirror_mode": {
    "name": "ipython",
    "version": 3
   },
   "file_extension": ".py",
   "mimetype": "text/x-python",
   "name": "python",
   "nbconvert_exporter": "python",
   "pygments_lexer": "ipython3",
   "version": "3.11.1"
  }
 },
 "nbformat": 4,
 "nbformat_minor": 5
}
