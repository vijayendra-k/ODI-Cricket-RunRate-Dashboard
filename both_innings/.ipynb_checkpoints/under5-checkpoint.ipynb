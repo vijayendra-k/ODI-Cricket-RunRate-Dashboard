{
 "cells": [
  {
   "cell_type": "markdown",
   "id": "98a3670c",
   "metadata": {},
   "source": [
    "Imported down all the necessary libraries which is thankfully just Pandas"
   ]
  },
  {
   "cell_type": "code",
   "execution_count": 1,
   "id": "d354d5f9",
   "metadata": {},
   "outputs": [],
   "source": [
    "import pandas as pd"
   ]
  },
  {
   "cell_type": "markdown",
   "id": "9a94a22d",
   "metadata": {},
   "source": [
    "Read the dataset using Pandas read_csv feature"
   ]
  },
  {
   "cell_type": "code",
   "execution_count": 2,
   "id": "34b65a8d",
   "metadata": {},
   "outputs": [
    {
     "name": "stderr",
     "output_type": "stream",
     "text": [
      "C:\\Users\\Vijay\\AppData\\Local\\Temp\\ipykernel_9088\\2538919985.py:1: DtypeWarning: Columns (41,52,53) have mixed types. Specify dtype option on import or set low_memory=False.\n",
      "  dataset=pd.read_csv('bbb_odi_data.csv')\n"
     ]
    }
   ],
   "source": [
    "dataset=pd.read_csv('bbb_odi_data.csv')"
   ]
  },
  {
   "cell_type": "markdown",
   "id": "612d1293",
   "metadata": {},
   "source": [
    "Filtered out the dataset to get the instances only where the Current run rate was <=5 during the course of the game"
   ]
  },
  {
   "cell_type": "code",
   "execution_count": 3,
   "id": "4f4eb1d3",
   "metadata": {},
   "outputs": [],
   "source": [
    "resultdf=dataset[dataset['inns_rr']<=5.00]"
   ]
  },
  {
   "cell_type": "markdown",
   "id": "e798d74a",
   "metadata": {},
   "source": [
    "An unnecessary column has been deleted"
   ]
  },
  {
   "cell_type": "code",
   "execution_count": 4,
   "id": "a2c21e23",
   "metadata": {},
   "outputs": [],
   "source": [
    "# resultdf.drop(columns='Unnamed: 0',index=1,inplace=True)"
   ]
  },
  {
   "cell_type": "markdown",
   "id": "350ea86c",
   "metadata": {},
   "source": [
    "There are several columns and I chose only the ones meaningful to the related query by using a list."
   ]
  },
  {
   "cell_type": "code",
   "execution_count": 5,
   "id": "9c2e2817",
   "metadata": {},
   "outputs": [],
   "source": [
    "req_cols=['bat','batruns','ballfaced']"
   ]
  },
  {
   "cell_type": "markdown",
   "id": "b853168e",
   "metadata": {},
   "source": [
    "Now, my dataset is filtered out to get only the required columns"
   ]
  },
  {
   "cell_type": "code",
   "execution_count": 6,
   "id": "8720ccc5",
   "metadata": {},
   "outputs": [],
   "source": [
    "result=resultdf[req_cols]"
   ]
  },
  {
   "cell_type": "markdown",
   "id": "8019f3bd",
   "metadata": {},
   "source": [
    "Grouped sum of the required columns gives us the overall aggregate of the data. I've reset the columns as well to include the names as a row value in the dataset."
   ]
  },
  {
   "cell_type": "code",
   "execution_count": 7,
   "id": "d76f6adf",
   "metadata": {},
   "outputs": [],
   "source": [
    "grouped=result.groupby(['bat']).sum().reset_index()"
   ]
  },
  {
   "cell_type": "code",
   "execution_count": 8,
   "id": "dcfd3d13",
   "metadata": {},
   "outputs": [
    {
     "data": {
      "text/html": [
       "<div>\n",
       "<style scoped>\n",
       "    .dataframe tbody tr th:only-of-type {\n",
       "        vertical-align: middle;\n",
       "    }\n",
       "\n",
       "    .dataframe tbody tr th {\n",
       "        vertical-align: top;\n",
       "    }\n",
       "\n",
       "    .dataframe thead th {\n",
       "        text-align: right;\n",
       "    }\n",
       "</style>\n",
       "<table border=\"1\" class=\"dataframe\">\n",
       "  <thead>\n",
       "    <tr style=\"text-align: right;\">\n",
       "      <th></th>\n",
       "      <th>bat</th>\n",
       "      <th>batruns</th>\n",
       "      <th>ballfaced</th>\n",
       "    </tr>\n",
       "  </thead>\n",
       "  <tbody>\n",
       "    <tr>\n",
       "      <th>0</th>\n",
       "      <td>AB de Villiers</td>\n",
       "      <td>3655</td>\n",
       "      <td>4626</td>\n",
       "    </tr>\n",
       "    <tr>\n",
       "      <th>1</th>\n",
       "      <td>AM Ghazanfar</td>\n",
       "      <td>5</td>\n",
       "      <td>8</td>\n",
       "    </tr>\n",
       "    <tr>\n",
       "      <th>2</th>\n",
       "      <td>Aamer Yamin</td>\n",
       "      <td>80</td>\n",
       "      <td>84</td>\n",
       "    </tr>\n",
       "    <tr>\n",
       "      <th>3</th>\n",
       "      <td>Aamir Kaleem</td>\n",
       "      <td>13</td>\n",
       "      <td>16</td>\n",
       "    </tr>\n",
       "    <tr>\n",
       "      <th>4</th>\n",
       "      <td>Aarif Sheikh</td>\n",
       "      <td>792</td>\n",
       "      <td>1300</td>\n",
       "    </tr>\n",
       "    <tr>\n",
       "      <th>...</th>\n",
       "      <td>...</td>\n",
       "      <td>...</td>\n",
       "      <td>...</td>\n",
       "    </tr>\n",
       "    <tr>\n",
       "      <th>1622</th>\n",
       "      <td>Zubayr Hamza</td>\n",
       "      <td>43</td>\n",
       "      <td>55</td>\n",
       "    </tr>\n",
       "    <tr>\n",
       "      <th>1623</th>\n",
       "      <td>Zubin Surkari</td>\n",
       "      <td>236</td>\n",
       "      <td>487</td>\n",
       "    </tr>\n",
       "    <tr>\n",
       "      <th>1624</th>\n",
       "      <td>Zulfiqar Babar</td>\n",
       "      <td>34</td>\n",
       "      <td>36</td>\n",
       "    </tr>\n",
       "    <tr>\n",
       "      <th>1625</th>\n",
       "      <td>Zulqarnain Haider</td>\n",
       "      <td>23</td>\n",
       "      <td>38</td>\n",
       "    </tr>\n",
       "    <tr>\n",
       "      <th>1626</th>\n",
       "      <td>Zunaed Siddique</td>\n",
       "      <td>725</td>\n",
       "      <td>1257</td>\n",
       "    </tr>\n",
       "  </tbody>\n",
       "</table>\n",
       "<p>1627 rows × 3 columns</p>\n",
       "</div>"
      ],
      "text/plain": [
       "                    bat  batruns  ballfaced\n",
       "0        AB de Villiers     3655       4626\n",
       "1          AM Ghazanfar        5          8\n",
       "2           Aamer Yamin       80         84\n",
       "3          Aamir Kaleem       13         16\n",
       "4          Aarif Sheikh      792       1300\n",
       "...                 ...      ...        ...\n",
       "1622       Zubayr Hamza       43         55\n",
       "1623      Zubin Surkari      236        487\n",
       "1624     Zulfiqar Babar       34         36\n",
       "1625  Zulqarnain Haider       23         38\n",
       "1626    Zunaed Siddique      725       1257\n",
       "\n",
       "[1627 rows x 3 columns]"
      ]
     },
     "execution_count": 8,
     "metadata": {},
     "output_type": "execute_result"
    }
   ],
   "source": [
    "grouped"
   ]
  },
  {
   "cell_type": "markdown",
   "id": "fd0d0ec2",
   "metadata": {},
   "source": [
    "I've used this different approach to sum the dismissals because there are some run out dismissals and not always it has been the striker who has gotten out, so based on the who_out? column values summation, I've found out the number of dismissals in this specific filter. "
   ]
  },
  {
   "cell_type": "code",
   "execution_count": 9,
   "id": "4cecfad5",
   "metadata": {},
   "outputs": [],
   "source": [
    "dis=pd.DataFrame(resultdf['who_out?'].value_counts()).reset_index()"
   ]
  },
  {
   "cell_type": "markdown",
   "id": "5af88dbf",
   "metadata": {},
   "source": [
    "This is an attempt to make a similar column in both the dataframes, and use it for joins later."
   ]
  },
  {
   "cell_type": "code",
   "execution_count": 10,
   "id": "99e88788",
   "metadata": {},
   "outputs": [],
   "source": [
    "dis.rename({'index':'bat'},axis=1,inplace=True)"
   ]
  },
  {
   "cell_type": "code",
   "execution_count": 11,
   "id": "7727902c",
   "metadata": {},
   "outputs": [
    {
     "data": {
      "text/html": [
       "<div>\n",
       "<style scoped>\n",
       "    .dataframe tbody tr th:only-of-type {\n",
       "        vertical-align: middle;\n",
       "    }\n",
       "\n",
       "    .dataframe tbody tr th {\n",
       "        vertical-align: top;\n",
       "    }\n",
       "\n",
       "    .dataframe thead th {\n",
       "        text-align: right;\n",
       "    }\n",
       "</style>\n",
       "<table border=\"1\" class=\"dataframe\">\n",
       "  <thead>\n",
       "    <tr style=\"text-align: right;\">\n",
       "      <th></th>\n",
       "      <th>bat</th>\n",
       "      <th>who_out?</th>\n",
       "    </tr>\n",
       "  </thead>\n",
       "  <tbody>\n",
       "    <tr>\n",
       "      <th>0</th>\n",
       "      <td>Tamim Iqbal</td>\n",
       "      <td>149</td>\n",
       "    </tr>\n",
       "    <tr>\n",
       "      <th>1</th>\n",
       "      <td>Hamilton Masakadza</td>\n",
       "      <td>146</td>\n",
       "    </tr>\n",
       "    <tr>\n",
       "      <th>2</th>\n",
       "      <td>Shakib Al Hasan</td>\n",
       "      <td>136</td>\n",
       "    </tr>\n",
       "    <tr>\n",
       "      <th>3</th>\n",
       "      <td>Mushfiqur Rahim</td>\n",
       "      <td>135</td>\n",
       "    </tr>\n",
       "    <tr>\n",
       "      <th>4</th>\n",
       "      <td>Kumar Sangakkara</td>\n",
       "      <td>126</td>\n",
       "    </tr>\n",
       "    <tr>\n",
       "      <th>...</th>\n",
       "      <td>...</td>\n",
       "      <td>...</td>\n",
       "    </tr>\n",
       "    <tr>\n",
       "      <th>1532</th>\n",
       "      <td>Ryan Flannigan</td>\n",
       "      <td>1</td>\n",
       "    </tr>\n",
       "    <tr>\n",
       "      <th>1533</th>\n",
       "      <td>Abhimanyu Mithun</td>\n",
       "      <td>1</td>\n",
       "    </tr>\n",
       "    <tr>\n",
       "      <th>1534</th>\n",
       "      <td>Sufyan Mehmood</td>\n",
       "      <td>1</td>\n",
       "    </tr>\n",
       "    <tr>\n",
       "      <th>1535</th>\n",
       "      <td>Prasidh Krishna</td>\n",
       "      <td>1</td>\n",
       "    </tr>\n",
       "    <tr>\n",
       "      <th>1536</th>\n",
       "      <td>Sahan Arachchige</td>\n",
       "      <td>1</td>\n",
       "    </tr>\n",
       "  </tbody>\n",
       "</table>\n",
       "<p>1537 rows × 2 columns</p>\n",
       "</div>"
      ],
      "text/plain": [
       "                     bat  who_out?\n",
       "0            Tamim Iqbal       149\n",
       "1     Hamilton Masakadza       146\n",
       "2        Shakib Al Hasan       136\n",
       "3        Mushfiqur Rahim       135\n",
       "4       Kumar Sangakkara       126\n",
       "...                  ...       ...\n",
       "1532      Ryan Flannigan         1\n",
       "1533    Abhimanyu Mithun         1\n",
       "1534      Sufyan Mehmood         1\n",
       "1535     Prasidh Krishna         1\n",
       "1536    Sahan Arachchige         1\n",
       "\n",
       "[1537 rows x 2 columns]"
      ]
     },
     "execution_count": 11,
     "metadata": {},
     "output_type": "execute_result"
    }
   ],
   "source": [
    "dis"
   ]
  },
  {
   "cell_type": "markdown",
   "id": "fbf7088b",
   "metadata": {},
   "source": [
    "A left join has been performed on the left dataset which is the grouped data and then they've been joined on 'bat' column"
   ]
  },
  {
   "cell_type": "code",
   "execution_count": 12,
   "id": "31d80b1c",
   "metadata": {},
   "outputs": [],
   "source": [
    "finalresult=pd.merge(grouped,dis,how='left',on='bat')"
   ]
  },
  {
   "cell_type": "markdown",
   "id": "40b40cde",
   "metadata": {},
   "source": [
    "Now, they've been sorted by descending order of 'batruns' and this operation has been performed in place to reflect the changes"
   ]
  },
  {
   "cell_type": "code",
   "execution_count": 13,
   "id": "68ac5602",
   "metadata": {},
   "outputs": [],
   "source": [
    "finalresult.sort_values(by='batruns',ascending=False,inplace=True)"
   ]
  },
  {
   "cell_type": "markdown",
   "id": "3f888509",
   "metadata": {},
   "source": [
    "The resultant column names have been renamed for easier interpretation"
   ]
  },
  {
   "cell_type": "code",
   "execution_count": 14,
   "id": "eb7af953",
   "metadata": {},
   "outputs": [],
   "source": [
    "finalresult.rename({'who_out?':'dismissals','batruns':'runs','ballfaced':'balls'},axis=1,inplace=True)"
   ]
  },
  {
   "cell_type": "code",
   "execution_count": 15,
   "id": "bcfe2ccd",
   "metadata": {},
   "outputs": [
    {
     "data": {
      "text/html": [
       "<div>\n",
       "<style scoped>\n",
       "    .dataframe tbody tr th:only-of-type {\n",
       "        vertical-align: middle;\n",
       "    }\n",
       "\n",
       "    .dataframe tbody tr th {\n",
       "        vertical-align: top;\n",
       "    }\n",
       "\n",
       "    .dataframe thead th {\n",
       "        text-align: right;\n",
       "    }\n",
       "</style>\n",
       "<table border=\"1\" class=\"dataframe\">\n",
       "  <thead>\n",
       "    <tr style=\"text-align: right;\">\n",
       "      <th></th>\n",
       "      <th>bat</th>\n",
       "      <th>runs</th>\n",
       "      <th>balls</th>\n",
       "      <th>dismissals</th>\n",
       "    </tr>\n",
       "  </thead>\n",
       "  <tbody>\n",
       "    <tr>\n",
       "      <th>797</th>\n",
       "      <td>Kumar Sangakkara</td>\n",
       "      <td>5227</td>\n",
       "      <td>7873</td>\n",
       "      <td>126.0</td>\n",
       "    </tr>\n",
       "    <tr>\n",
       "      <th>1016</th>\n",
       "      <td>Mushfiqur Rahim</td>\n",
       "      <td>4561</td>\n",
       "      <td>6400</td>\n",
       "      <td>135.0</td>\n",
       "    </tr>\n",
       "    <tr>\n",
       "      <th>1562</th>\n",
       "      <td>Virat Kohli</td>\n",
       "      <td>4537</td>\n",
       "      <td>6085</td>\n",
       "      <td>94.0</td>\n",
       "    </tr>\n",
       "    <tr>\n",
       "      <th>856</th>\n",
       "      <td>MS Dhoni</td>\n",
       "      <td>4415</td>\n",
       "      <td>6314</td>\n",
       "      <td>95.0</td>\n",
       "    </tr>\n",
       "    <tr>\n",
       "      <th>1341</th>\n",
       "      <td>Shakib Al Hasan</td>\n",
       "      <td>4387</td>\n",
       "      <td>5990</td>\n",
       "      <td>136.0</td>\n",
       "    </tr>\n",
       "    <tr>\n",
       "      <th>...</th>\n",
       "      <td>...</td>\n",
       "      <td>...</td>\n",
       "      <td>...</td>\n",
       "      <td>...</td>\n",
       "    </tr>\n",
       "    <tr>\n",
       "      <th>705</th>\n",
       "      <td>Josephat Ababu</td>\n",
       "      <td>0</td>\n",
       "      <td>9</td>\n",
       "      <td>NaN</td>\n",
       "    </tr>\n",
       "    <tr>\n",
       "      <th>599</th>\n",
       "      <td>Ishwarjot Sohi</td>\n",
       "      <td>0</td>\n",
       "      <td>2</td>\n",
       "      <td>1.0</td>\n",
       "    </tr>\n",
       "    <tr>\n",
       "      <th>441</th>\n",
       "      <td>Fahad Alhashmi</td>\n",
       "      <td>0</td>\n",
       "      <td>7</td>\n",
       "      <td>3.0</td>\n",
       "    </tr>\n",
       "    <tr>\n",
       "      <th>1262</th>\n",
       "      <td>Ryan Rickelton</td>\n",
       "      <td>0</td>\n",
       "      <td>2</td>\n",
       "      <td>NaN</td>\n",
       "    </tr>\n",
       "    <tr>\n",
       "      <th>403</th>\n",
       "      <td>Dominique Rikhi</td>\n",
       "      <td>0</td>\n",
       "      <td>8</td>\n",
       "      <td>1.0</td>\n",
       "    </tr>\n",
       "  </tbody>\n",
       "</table>\n",
       "<p>1627 rows × 4 columns</p>\n",
       "</div>"
      ],
      "text/plain": [
       "                   bat  runs  balls  dismissals\n",
       "797   Kumar Sangakkara  5227   7873       126.0\n",
       "1016   Mushfiqur Rahim  4561   6400       135.0\n",
       "1562       Virat Kohli  4537   6085        94.0\n",
       "856           MS Dhoni  4415   6314        95.0\n",
       "1341   Shakib Al Hasan  4387   5990       136.0\n",
       "...                ...   ...    ...         ...\n",
       "705     Josephat Ababu     0      9         NaN\n",
       "599     Ishwarjot Sohi     0      2         1.0\n",
       "441     Fahad Alhashmi     0      7         3.0\n",
       "1262    Ryan Rickelton     0      2         NaN\n",
       "403    Dominique Rikhi     0      8         1.0\n",
       "\n",
       "[1627 rows x 4 columns]"
      ]
     },
     "execution_count": 15,
     "metadata": {},
     "output_type": "execute_result"
    }
   ],
   "source": [
    "finalresult"
   ]
  },
  {
   "cell_type": "markdown",
   "id": "18eb8a7a",
   "metadata": {},
   "source": [
    "Before performing mathematical operations to find out the averages and strike rates, I've actually verified if the data types are suitable for calculations or not. Since both are of the same 'integer' type, it is easier for me to perform the operations."
   ]
  },
  {
   "cell_type": "code",
   "execution_count": 16,
   "id": "7c68694b",
   "metadata": {},
   "outputs": [
    {
     "data": {
      "text/plain": [
       "bat            object\n",
       "runs            int64\n",
       "balls           int64\n",
       "dismissals    float64\n",
       "dtype: object"
      ]
     },
     "execution_count": 16,
     "metadata": {},
     "output_type": "execute_result"
    }
   ],
   "source": [
    "finalresult.dtypes"
   ]
  },
  {
   "cell_type": "markdown",
   "id": "66c5c474",
   "metadata": {},
   "source": [
    "The averages and Runs Per Over (rpo) were calculated from the existing data and were rounded off to the 2 nearest decimal places."
   ]
  },
  {
   "cell_type": "code",
   "execution_count": 17,
   "id": "40ee41a0",
   "metadata": {},
   "outputs": [],
   "source": [
    "finalresult['avg']=(finalresult['runs']/finalresult['dismissals'])\n",
    "finalresult['avg']=round(finalresult['avg'],2)"
   ]
  },
  {
   "cell_type": "code",
   "execution_count": 18,
   "id": "c0cc5e2b",
   "metadata": {},
   "outputs": [],
   "source": [
    "finalresult['rpo']=(finalresult['runs']*6/finalresult['balls'])\n",
    "finalresult['rpo']=round(finalresult['rpo'],2)"
   ]
  },
  {
   "cell_type": "markdown",
   "id": "6a9e0c4a",
   "metadata": {},
   "source": [
    "The end result has been saved to a csv file to use them further for visualizations on tableau"
   ]
  },
  {
   "cell_type": "code",
   "execution_count": 19,
   "id": "67c91703",
   "metadata": {},
   "outputs": [],
   "source": [
    "finalresult.to_csv('under5.csv')"
   ]
  },
  {
   "cell_type": "code",
   "execution_count": 20,
   "id": "4c920fce",
   "metadata": {},
   "outputs": [
    {
     "data": {
      "text/html": [
       "<div>\n",
       "<style scoped>\n",
       "    .dataframe tbody tr th:only-of-type {\n",
       "        vertical-align: middle;\n",
       "    }\n",
       "\n",
       "    .dataframe tbody tr th {\n",
       "        vertical-align: top;\n",
       "    }\n",
       "\n",
       "    .dataframe thead th {\n",
       "        text-align: right;\n",
       "    }\n",
       "</style>\n",
       "<table border=\"1\" class=\"dataframe\">\n",
       "  <thead>\n",
       "    <tr style=\"text-align: right;\">\n",
       "      <th></th>\n",
       "      <th>bat</th>\n",
       "      <th>runs</th>\n",
       "      <th>balls</th>\n",
       "      <th>dismissals</th>\n",
       "      <th>avg</th>\n",
       "      <th>rpo</th>\n",
       "    </tr>\n",
       "  </thead>\n",
       "  <tbody>\n",
       "    <tr>\n",
       "      <th>797</th>\n",
       "      <td>Kumar Sangakkara</td>\n",
       "      <td>5227</td>\n",
       "      <td>7873</td>\n",
       "      <td>126.0</td>\n",
       "      <td>41.48</td>\n",
       "      <td>3.98</td>\n",
       "    </tr>\n",
       "    <tr>\n",
       "      <th>1016</th>\n",
       "      <td>Mushfiqur Rahim</td>\n",
       "      <td>4561</td>\n",
       "      <td>6400</td>\n",
       "      <td>135.0</td>\n",
       "      <td>33.79</td>\n",
       "      <td>4.28</td>\n",
       "    </tr>\n",
       "    <tr>\n",
       "      <th>1562</th>\n",
       "      <td>Virat Kohli</td>\n",
       "      <td>4537</td>\n",
       "      <td>6085</td>\n",
       "      <td>94.0</td>\n",
       "      <td>48.27</td>\n",
       "      <td>4.47</td>\n",
       "    </tr>\n",
       "    <tr>\n",
       "      <th>856</th>\n",
       "      <td>MS Dhoni</td>\n",
       "      <td>4415</td>\n",
       "      <td>6314</td>\n",
       "      <td>95.0</td>\n",
       "      <td>46.47</td>\n",
       "      <td>4.20</td>\n",
       "    </tr>\n",
       "    <tr>\n",
       "      <th>1341</th>\n",
       "      <td>Shakib Al Hasan</td>\n",
       "      <td>4387</td>\n",
       "      <td>5990</td>\n",
       "      <td>136.0</td>\n",
       "      <td>32.26</td>\n",
       "      <td>4.39</td>\n",
       "    </tr>\n",
       "    <tr>\n",
       "      <th>...</th>\n",
       "      <td>...</td>\n",
       "      <td>...</td>\n",
       "      <td>...</td>\n",
       "      <td>...</td>\n",
       "      <td>...</td>\n",
       "      <td>...</td>\n",
       "    </tr>\n",
       "    <tr>\n",
       "      <th>705</th>\n",
       "      <td>Josephat Ababu</td>\n",
       "      <td>0</td>\n",
       "      <td>9</td>\n",
       "      <td>NaN</td>\n",
       "      <td>NaN</td>\n",
       "      <td>0.00</td>\n",
       "    </tr>\n",
       "    <tr>\n",
       "      <th>599</th>\n",
       "      <td>Ishwarjot Sohi</td>\n",
       "      <td>0</td>\n",
       "      <td>2</td>\n",
       "      <td>1.0</td>\n",
       "      <td>0.00</td>\n",
       "      <td>0.00</td>\n",
       "    </tr>\n",
       "    <tr>\n",
       "      <th>441</th>\n",
       "      <td>Fahad Alhashmi</td>\n",
       "      <td>0</td>\n",
       "      <td>7</td>\n",
       "      <td>3.0</td>\n",
       "      <td>0.00</td>\n",
       "      <td>0.00</td>\n",
       "    </tr>\n",
       "    <tr>\n",
       "      <th>1262</th>\n",
       "      <td>Ryan Rickelton</td>\n",
       "      <td>0</td>\n",
       "      <td>2</td>\n",
       "      <td>NaN</td>\n",
       "      <td>NaN</td>\n",
       "      <td>0.00</td>\n",
       "    </tr>\n",
       "    <tr>\n",
       "      <th>403</th>\n",
       "      <td>Dominique Rikhi</td>\n",
       "      <td>0</td>\n",
       "      <td>8</td>\n",
       "      <td>1.0</td>\n",
       "      <td>0.00</td>\n",
       "      <td>0.00</td>\n",
       "    </tr>\n",
       "  </tbody>\n",
       "</table>\n",
       "<p>1627 rows × 6 columns</p>\n",
       "</div>"
      ],
      "text/plain": [
       "                   bat  runs  balls  dismissals    avg   rpo\n",
       "797   Kumar Sangakkara  5227   7873       126.0  41.48  3.98\n",
       "1016   Mushfiqur Rahim  4561   6400       135.0  33.79  4.28\n",
       "1562       Virat Kohli  4537   6085        94.0  48.27  4.47\n",
       "856           MS Dhoni  4415   6314        95.0  46.47  4.20\n",
       "1341   Shakib Al Hasan  4387   5990       136.0  32.26  4.39\n",
       "...                ...   ...    ...         ...    ...   ...\n",
       "705     Josephat Ababu     0      9         NaN    NaN  0.00\n",
       "599     Ishwarjot Sohi     0      2         1.0   0.00  0.00\n",
       "441     Fahad Alhashmi     0      7         3.0   0.00  0.00\n",
       "1262    Ryan Rickelton     0      2         NaN    NaN  0.00\n",
       "403    Dominique Rikhi     0      8         1.0   0.00  0.00\n",
       "\n",
       "[1627 rows x 6 columns]"
      ]
     },
     "execution_count": 20,
     "metadata": {},
     "output_type": "execute_result"
    }
   ],
   "source": [
    "finalresult"
   ]
  }
 ],
 "metadata": {
  "kernelspec": {
   "display_name": "Python 3 (ipykernel)",
   "language": "python",
   "name": "python3"
  },
  "language_info": {
   "codemirror_mode": {
    "name": "ipython",
    "version": 3
   },
   "file_extension": ".py",
   "mimetype": "text/x-python",
   "name": "python",
   "nbconvert_exporter": "python",
   "pygments_lexer": "ipython3",
   "version": "3.11.1"
  }
 },
 "nbformat": 4,
 "nbformat_minor": 5
}
