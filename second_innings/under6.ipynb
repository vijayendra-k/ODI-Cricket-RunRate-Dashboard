{
 "cells": [
  {
   "cell_type": "markdown",
   "id": "98a3670c",
   "metadata": {},
   "source": [
    "Imported down all the necessary libraries which is thankfully just Pandas"
   ]
  },
  {
   "cell_type": "code",
   "execution_count": 1,
   "id": "d354d5f9",
   "metadata": {},
   "outputs": [],
   "source": [
    "import pandas as pd"
   ]
  },
  {
   "cell_type": "markdown",
   "id": "9a94a22d",
   "metadata": {},
   "source": [
    "Read the dataset using Pandas read_csv feature"
   ]
  },
  {
   "cell_type": "code",
   "execution_count": 2,
   "id": "34b65a8d",
   "metadata": {},
   "outputs": [
    {
     "name": "stderr",
     "output_type": "stream",
     "text": [
      "C:\\Users\\Vijay\\AppData\\Local\\Temp\\ipykernel_8408\\2538919985.py:1: DtypeWarning: Columns (41,52,53) have mixed types. Specify dtype option on import or set low_memory=False.\n",
      "  dataset=pd.read_csv('bbb_odi_data.csv')\n"
     ]
    }
   ],
   "source": [
    "dataset=pd.read_csv('bbb_odi_data.csv')"
   ]
  },
  {
   "cell_type": "markdown",
   "id": "612d1293",
   "metadata": {},
   "source": [
    "Filtered out the dataset to get the instances only where the Current run rate was <=5 during the course of the game"
   ]
  },
  {
   "cell_type": "code",
   "execution_count": 3,
   "id": "4f4eb1d3",
   "metadata": {},
   "outputs": [],
   "source": [
    "dataset=dataset[dataset['inns']==2]\n",
    "resultdf=dataset[(dataset['inns_rrr']<6.00)]"
   ]
  },
  {
   "cell_type": "markdown",
   "id": "e798d74a",
   "metadata": {},
   "source": [
    "An unnecessary column has been deleted"
   ]
  },
  {
   "cell_type": "code",
   "execution_count": 4,
   "id": "a2c21e23",
   "metadata": {},
   "outputs": [],
   "source": [
    "# resultdf.drop(columns='Unnamed: 0',index=1,inplace=True)"
   ]
  },
  {
   "cell_type": "markdown",
   "id": "350ea86c",
   "metadata": {},
   "source": [
    "There are several columns and I chose only the ones meaningful to the related query by using a list."
   ]
  },
  {
   "cell_type": "code",
   "execution_count": 5,
   "id": "9c2e2817",
   "metadata": {},
   "outputs": [],
   "source": [
    "req_cols=['bat','batruns','ballfaced']"
   ]
  },
  {
   "cell_type": "markdown",
   "id": "b853168e",
   "metadata": {},
   "source": [
    "Now, my dataset is filtered out to get only the required columns"
   ]
  },
  {
   "cell_type": "code",
   "execution_count": 6,
   "id": "8720ccc5",
   "metadata": {},
   "outputs": [],
   "source": [
    "result=resultdf[req_cols]"
   ]
  },
  {
   "cell_type": "markdown",
   "id": "8019f3bd",
   "metadata": {},
   "source": [
    "Grouped sum of the required columns gives us the overall aggregate of the data. I've reset the columns as well to include the names as a row value in the dataset."
   ]
  },
  {
   "cell_type": "code",
   "execution_count": 7,
   "id": "d76f6adf",
   "metadata": {},
   "outputs": [],
   "source": [
    "grouped=result.groupby(['bat']).sum().reset_index()"
   ]
  },
  {
   "cell_type": "code",
   "execution_count": 8,
   "id": "dcfd3d13",
   "metadata": {},
   "outputs": [
    {
     "data": {
      "text/html": [
       "<div>\n",
       "<style scoped>\n",
       "    .dataframe tbody tr th:only-of-type {\n",
       "        vertical-align: middle;\n",
       "    }\n",
       "\n",
       "    .dataframe tbody tr th {\n",
       "        vertical-align: top;\n",
       "    }\n",
       "\n",
       "    .dataframe thead th {\n",
       "        text-align: right;\n",
       "    }\n",
       "</style>\n",
       "<table border=\"1\" class=\"dataframe\">\n",
       "  <thead>\n",
       "    <tr style=\"text-align: right;\">\n",
       "      <th></th>\n",
       "      <th>bat</th>\n",
       "      <th>batruns</th>\n",
       "      <th>ballfaced</th>\n",
       "    </tr>\n",
       "  </thead>\n",
       "  <tbody>\n",
       "    <tr>\n",
       "      <th>0</th>\n",
       "      <td>AB de Villiers</td>\n",
       "      <td>2569</td>\n",
       "      <td>2815</td>\n",
       "    </tr>\n",
       "    <tr>\n",
       "      <th>1</th>\n",
       "      <td>Aarif Sheikh</td>\n",
       "      <td>267</td>\n",
       "      <td>529</td>\n",
       "    </tr>\n",
       "    <tr>\n",
       "      <th>2</th>\n",
       "      <td>Aaron Finch</td>\n",
       "      <td>1440</td>\n",
       "      <td>1523</td>\n",
       "    </tr>\n",
       "    <tr>\n",
       "      <th>3</th>\n",
       "      <td>Aaron Hardie</td>\n",
       "      <td>2</td>\n",
       "      <td>5</td>\n",
       "    </tr>\n",
       "    <tr>\n",
       "      <th>4</th>\n",
       "      <td>Aaron Johnson</td>\n",
       "      <td>97</td>\n",
       "      <td>85</td>\n",
       "    </tr>\n",
       "    <tr>\n",
       "      <th>...</th>\n",
       "      <td>...</td>\n",
       "      <td>...</td>\n",
       "      <td>...</td>\n",
       "    </tr>\n",
       "    <tr>\n",
       "      <th>1241</th>\n",
       "      <td>Ziaur Rahman</td>\n",
       "      <td>12</td>\n",
       "      <td>12</td>\n",
       "    </tr>\n",
       "    <tr>\n",
       "      <th>1242</th>\n",
       "      <td>Zubin Surkari</td>\n",
       "      <td>100</td>\n",
       "      <td>202</td>\n",
       "    </tr>\n",
       "    <tr>\n",
       "      <th>1243</th>\n",
       "      <td>Zulfiqar Babar</td>\n",
       "      <td>12</td>\n",
       "      <td>7</td>\n",
       "    </tr>\n",
       "    <tr>\n",
       "      <th>1244</th>\n",
       "      <td>Zulqarnain Haider</td>\n",
       "      <td>5</td>\n",
       "      <td>4</td>\n",
       "    </tr>\n",
       "    <tr>\n",
       "      <th>1245</th>\n",
       "      <td>Zunaed Siddique</td>\n",
       "      <td>492</td>\n",
       "      <td>782</td>\n",
       "    </tr>\n",
       "  </tbody>\n",
       "</table>\n",
       "<p>1246 rows × 3 columns</p>\n",
       "</div>"
      ],
      "text/plain": [
       "                    bat  batruns  ballfaced\n",
       "0        AB de Villiers     2569       2815\n",
       "1          Aarif Sheikh      267        529\n",
       "2           Aaron Finch     1440       1523\n",
       "3          Aaron Hardie        2          5\n",
       "4         Aaron Johnson       97         85\n",
       "...                 ...      ...        ...\n",
       "1241       Ziaur Rahman       12         12\n",
       "1242      Zubin Surkari      100        202\n",
       "1243     Zulfiqar Babar       12          7\n",
       "1244  Zulqarnain Haider        5          4\n",
       "1245    Zunaed Siddique      492        782\n",
       "\n",
       "[1246 rows x 3 columns]"
      ]
     },
     "execution_count": 8,
     "metadata": {},
     "output_type": "execute_result"
    }
   ],
   "source": [
    "grouped"
   ]
  },
  {
   "cell_type": "markdown",
   "id": "fd0d0ec2",
   "metadata": {},
   "source": [
    "I've used this different approach to sum the dismissals because there are some run out dismissals and not always it has been the striker who has gotten out, so based on the who_out? column values summation, I've found out the number of dismissals in this specific filter. "
   ]
  },
  {
   "cell_type": "code",
   "execution_count": 9,
   "id": "4cecfad5",
   "metadata": {},
   "outputs": [],
   "source": [
    "dis=pd.DataFrame(resultdf['who_out?'].value_counts()).reset_index()"
   ]
  },
  {
   "cell_type": "markdown",
   "id": "5af88dbf",
   "metadata": {},
   "source": [
    "This is an attempt to make a similar column in both the dataframes, and use it for joins later."
   ]
  },
  {
   "cell_type": "code",
   "execution_count": 10,
   "id": "99e88788",
   "metadata": {},
   "outputs": [],
   "source": [
    "dis.rename({'index':'bat'},axis=1,inplace=True)"
   ]
  },
  {
   "cell_type": "code",
   "execution_count": 11,
   "id": "7727902c",
   "metadata": {},
   "outputs": [
    {
     "data": {
      "text/html": [
       "<div>\n",
       "<style scoped>\n",
       "    .dataframe tbody tr th:only-of-type {\n",
       "        vertical-align: middle;\n",
       "    }\n",
       "\n",
       "    .dataframe tbody tr th {\n",
       "        vertical-align: top;\n",
       "    }\n",
       "\n",
       "    .dataframe thead th {\n",
       "        text-align: right;\n",
       "    }\n",
       "</style>\n",
       "<table border=\"1\" class=\"dataframe\">\n",
       "  <thead>\n",
       "    <tr style=\"text-align: right;\">\n",
       "      <th></th>\n",
       "      <th>bat</th>\n",
       "      <th>who_out?</th>\n",
       "    </tr>\n",
       "  </thead>\n",
       "  <tbody>\n",
       "    <tr>\n",
       "      <th>0</th>\n",
       "      <td>Virat Kohli</td>\n",
       "      <td>73</td>\n",
       "    </tr>\n",
       "    <tr>\n",
       "      <th>1</th>\n",
       "      <td>Rohit Sharma</td>\n",
       "      <td>67</td>\n",
       "    </tr>\n",
       "    <tr>\n",
       "      <th>2</th>\n",
       "      <td>Tamim Iqbal</td>\n",
       "      <td>64</td>\n",
       "    </tr>\n",
       "    <tr>\n",
       "      <th>3</th>\n",
       "      <td>Mohammad Hafeez</td>\n",
       "      <td>63</td>\n",
       "    </tr>\n",
       "    <tr>\n",
       "      <th>4</th>\n",
       "      <td>Chris Gayle</td>\n",
       "      <td>62</td>\n",
       "    </tr>\n",
       "    <tr>\n",
       "      <th>...</th>\n",
       "      <td>...</td>\n",
       "      <td>...</td>\n",
       "    </tr>\n",
       "    <tr>\n",
       "      <th>1032</th>\n",
       "      <td>Rory McCann</td>\n",
       "      <td>1</td>\n",
       "    </tr>\n",
       "    <tr>\n",
       "      <th>1033</th>\n",
       "      <td>Matt Henry</td>\n",
       "      <td>1</td>\n",
       "    </tr>\n",
       "    <tr>\n",
       "      <th>1034</th>\n",
       "      <td>Dominic Wesonga</td>\n",
       "      <td>1</td>\n",
       "    </tr>\n",
       "    <tr>\n",
       "      <th>1035</th>\n",
       "      <td>Shem Ngoche</td>\n",
       "      <td>1</td>\n",
       "    </tr>\n",
       "    <tr>\n",
       "      <th>1036</th>\n",
       "      <td>Sahan Arachchige</td>\n",
       "      <td>1</td>\n",
       "    </tr>\n",
       "  </tbody>\n",
       "</table>\n",
       "<p>1037 rows × 2 columns</p>\n",
       "</div>"
      ],
      "text/plain": [
       "                   bat  who_out?\n",
       "0          Virat Kohli        73\n",
       "1         Rohit Sharma        67\n",
       "2          Tamim Iqbal        64\n",
       "3      Mohammad Hafeez        63\n",
       "4          Chris Gayle        62\n",
       "...                ...       ...\n",
       "1032       Rory McCann         1\n",
       "1033        Matt Henry         1\n",
       "1034   Dominic Wesonga         1\n",
       "1035       Shem Ngoche         1\n",
       "1036  Sahan Arachchige         1\n",
       "\n",
       "[1037 rows x 2 columns]"
      ]
     },
     "execution_count": 11,
     "metadata": {},
     "output_type": "execute_result"
    }
   ],
   "source": [
    "dis"
   ]
  },
  {
   "cell_type": "markdown",
   "id": "fbf7088b",
   "metadata": {},
   "source": [
    "A left join has been performed on the left dataset which is the grouped data and then they've been joined on 'bat' column"
   ]
  },
  {
   "cell_type": "code",
   "execution_count": 12,
   "id": "31d80b1c",
   "metadata": {},
   "outputs": [],
   "source": [
    "finalresult=pd.merge(grouped,dis,how='left',on='bat')"
   ]
  },
  {
   "cell_type": "markdown",
   "id": "40b40cde",
   "metadata": {},
   "source": [
    "Now, they've been sorted by descending order of 'batruns' and this operation has been performed in place to reflect the changes"
   ]
  },
  {
   "cell_type": "code",
   "execution_count": 13,
   "id": "68ac5602",
   "metadata": {},
   "outputs": [],
   "source": [
    "finalresult.sort_values(by='batruns',ascending=False,inplace=True)"
   ]
  },
  {
   "cell_type": "markdown",
   "id": "3f888509",
   "metadata": {},
   "source": [
    "The resultant column names have been renamed for easier interpretation"
   ]
  },
  {
   "cell_type": "code",
   "execution_count": 14,
   "id": "eb7af953",
   "metadata": {},
   "outputs": [],
   "source": [
    "finalresult.rename({'who_out?':'dismissals','batruns':'runs','ballfaced':'balls'},axis=1,inplace=True)"
   ]
  },
  {
   "cell_type": "code",
   "execution_count": 15,
   "id": "bcfe2ccd",
   "metadata": {},
   "outputs": [
    {
     "data": {
      "text/html": [
       "<div>\n",
       "<style scoped>\n",
       "    .dataframe tbody tr th:only-of-type {\n",
       "        vertical-align: middle;\n",
       "    }\n",
       "\n",
       "    .dataframe tbody tr th {\n",
       "        vertical-align: top;\n",
       "    }\n",
       "\n",
       "    .dataframe thead th {\n",
       "        text-align: right;\n",
       "    }\n",
       "</style>\n",
       "<table border=\"1\" class=\"dataframe\">\n",
       "  <thead>\n",
       "    <tr style=\"text-align: right;\">\n",
       "      <th></th>\n",
       "      <th>bat</th>\n",
       "      <th>runs</th>\n",
       "      <th>balls</th>\n",
       "      <th>dismissals</th>\n",
       "    </tr>\n",
       "  </thead>\n",
       "  <tbody>\n",
       "    <tr>\n",
       "      <th>1203</th>\n",
       "      <td>Virat Kohli</td>\n",
       "      <td>4593</td>\n",
       "      <td>5086</td>\n",
       "      <td>73.0</td>\n",
       "    </tr>\n",
       "    <tr>\n",
       "      <th>934</th>\n",
       "      <td>Rohit Sharma</td>\n",
       "      <td>3825</td>\n",
       "      <td>4311</td>\n",
       "      <td>67.0</td>\n",
       "    </tr>\n",
       "    <tr>\n",
       "      <th>690</th>\n",
       "      <td>Martin Guptill</td>\n",
       "      <td>2706</td>\n",
       "      <td>2866</td>\n",
       "      <td>49.0</td>\n",
       "    </tr>\n",
       "    <tr>\n",
       "      <th>1115</th>\n",
       "      <td>Tamim Iqbal</td>\n",
       "      <td>2632</td>\n",
       "      <td>3259</td>\n",
       "      <td>64.0</td>\n",
       "    </tr>\n",
       "    <tr>\n",
       "      <th>0</th>\n",
       "      <td>AB de Villiers</td>\n",
       "      <td>2569</td>\n",
       "      <td>2815</td>\n",
       "      <td>42.0</td>\n",
       "    </tr>\n",
       "    <tr>\n",
       "      <th>...</th>\n",
       "      <td>...</td>\n",
       "      <td>...</td>\n",
       "      <td>...</td>\n",
       "      <td>...</td>\n",
       "    </tr>\n",
       "    <tr>\n",
       "      <th>315</th>\n",
       "      <td>Dom Joyce</td>\n",
       "      <td>0</td>\n",
       "      <td>1</td>\n",
       "      <td>1.0</td>\n",
       "    </tr>\n",
       "    <tr>\n",
       "      <th>316</th>\n",
       "      <td>Dominic Blampied</td>\n",
       "      <td>0</td>\n",
       "      <td>1</td>\n",
       "      <td>1.0</td>\n",
       "    </tr>\n",
       "    <tr>\n",
       "      <th>1059</th>\n",
       "      <td>Simandeep Singh</td>\n",
       "      <td>0</td>\n",
       "      <td>7</td>\n",
       "      <td>1.0</td>\n",
       "    </tr>\n",
       "    <tr>\n",
       "      <th>534</th>\n",
       "      <td>Johan van der Wath</td>\n",
       "      <td>0</td>\n",
       "      <td>1</td>\n",
       "      <td>NaN</td>\n",
       "    </tr>\n",
       "    <tr>\n",
       "      <th>517</th>\n",
       "      <td>Jayden Seales</td>\n",
       "      <td>0</td>\n",
       "      <td>2</td>\n",
       "      <td>NaN</td>\n",
       "    </tr>\n",
       "  </tbody>\n",
       "</table>\n",
       "<p>1246 rows × 4 columns</p>\n",
       "</div>"
      ],
      "text/plain": [
       "                     bat  runs  balls  dismissals\n",
       "1203         Virat Kohli  4593   5086        73.0\n",
       "934         Rohit Sharma  3825   4311        67.0\n",
       "690       Martin Guptill  2706   2866        49.0\n",
       "1115         Tamim Iqbal  2632   3259        64.0\n",
       "0         AB de Villiers  2569   2815        42.0\n",
       "...                  ...   ...    ...         ...\n",
       "315            Dom Joyce     0      1         1.0\n",
       "316     Dominic Blampied     0      1         1.0\n",
       "1059     Simandeep Singh     0      7         1.0\n",
       "534   Johan van der Wath     0      1         NaN\n",
       "517        Jayden Seales     0      2         NaN\n",
       "\n",
       "[1246 rows x 4 columns]"
      ]
     },
     "execution_count": 15,
     "metadata": {},
     "output_type": "execute_result"
    }
   ],
   "source": [
    "finalresult"
   ]
  },
  {
   "cell_type": "markdown",
   "id": "18eb8a7a",
   "metadata": {},
   "source": [
    "Before performing mathematical operations to find out the averages and strike rates, I've actually verified if the data types are suitable for calculations or not. Since both are of the same 'integer' type, it is easier for me to perform the operations."
   ]
  },
  {
   "cell_type": "code",
   "execution_count": 16,
   "id": "7c68694b",
   "metadata": {},
   "outputs": [
    {
     "data": {
      "text/plain": [
       "bat            object\n",
       "runs            int64\n",
       "balls           int64\n",
       "dismissals    float64\n",
       "dtype: object"
      ]
     },
     "execution_count": 16,
     "metadata": {},
     "output_type": "execute_result"
    }
   ],
   "source": [
    "finalresult.dtypes"
   ]
  },
  {
   "cell_type": "markdown",
   "id": "66c5c474",
   "metadata": {},
   "source": [
    "The averages and Runs Per Over (rpo) were calculated from the existing data and were rounded off to the 2 nearest decimal places."
   ]
  },
  {
   "cell_type": "code",
   "execution_count": 17,
   "id": "40ee41a0",
   "metadata": {},
   "outputs": [],
   "source": [
    "finalresult['avg']=(finalresult['runs']/finalresult['dismissals'])\n",
    "finalresult['avg']=round(finalresult['avg'],2)"
   ]
  },
  {
   "cell_type": "code",
   "execution_count": 18,
   "id": "c0cc5e2b",
   "metadata": {},
   "outputs": [],
   "source": [
    "finalresult['rpo']=(finalresult['runs']*6/finalresult['balls'])\n",
    "finalresult['rpo']=round(finalresult['rpo'],2)"
   ]
  },
  {
   "cell_type": "markdown",
   "id": "6a9e0c4a",
   "metadata": {},
   "source": [
    "The end result has been saved to a csv file to use them further for visualizations on tableau"
   ]
  },
  {
   "cell_type": "code",
   "execution_count": 19,
   "id": "67c91703",
   "metadata": {},
   "outputs": [],
   "source": [
    "finalresult.to_csv('below6.csv')"
   ]
  },
  {
   "cell_type": "code",
   "execution_count": 20,
   "id": "4c920fce",
   "metadata": {},
   "outputs": [
    {
     "data": {
      "text/html": [
       "<div>\n",
       "<style scoped>\n",
       "    .dataframe tbody tr th:only-of-type {\n",
       "        vertical-align: middle;\n",
       "    }\n",
       "\n",
       "    .dataframe tbody tr th {\n",
       "        vertical-align: top;\n",
       "    }\n",
       "\n",
       "    .dataframe thead th {\n",
       "        text-align: right;\n",
       "    }\n",
       "</style>\n",
       "<table border=\"1\" class=\"dataframe\">\n",
       "  <thead>\n",
       "    <tr style=\"text-align: right;\">\n",
       "      <th></th>\n",
       "      <th>bat</th>\n",
       "      <th>runs</th>\n",
       "      <th>balls</th>\n",
       "      <th>dismissals</th>\n",
       "      <th>avg</th>\n",
       "      <th>rpo</th>\n",
       "    </tr>\n",
       "  </thead>\n",
       "  <tbody>\n",
       "    <tr>\n",
       "      <th>1203</th>\n",
       "      <td>Virat Kohli</td>\n",
       "      <td>4593</td>\n",
       "      <td>5086</td>\n",
       "      <td>73.0</td>\n",
       "      <td>62.92</td>\n",
       "      <td>5.42</td>\n",
       "    </tr>\n",
       "    <tr>\n",
       "      <th>934</th>\n",
       "      <td>Rohit Sharma</td>\n",
       "      <td>3825</td>\n",
       "      <td>4311</td>\n",
       "      <td>67.0</td>\n",
       "      <td>57.09</td>\n",
       "      <td>5.32</td>\n",
       "    </tr>\n",
       "    <tr>\n",
       "      <th>690</th>\n",
       "      <td>Martin Guptill</td>\n",
       "      <td>2706</td>\n",
       "      <td>2866</td>\n",
       "      <td>49.0</td>\n",
       "      <td>55.22</td>\n",
       "      <td>5.67</td>\n",
       "    </tr>\n",
       "    <tr>\n",
       "      <th>1115</th>\n",
       "      <td>Tamim Iqbal</td>\n",
       "      <td>2632</td>\n",
       "      <td>3259</td>\n",
       "      <td>64.0</td>\n",
       "      <td>41.12</td>\n",
       "      <td>4.85</td>\n",
       "    </tr>\n",
       "    <tr>\n",
       "      <th>0</th>\n",
       "      <td>AB de Villiers</td>\n",
       "      <td>2569</td>\n",
       "      <td>2815</td>\n",
       "      <td>42.0</td>\n",
       "      <td>61.17</td>\n",
       "      <td>5.48</td>\n",
       "    </tr>\n",
       "    <tr>\n",
       "      <th>...</th>\n",
       "      <td>...</td>\n",
       "      <td>...</td>\n",
       "      <td>...</td>\n",
       "      <td>...</td>\n",
       "      <td>...</td>\n",
       "      <td>...</td>\n",
       "    </tr>\n",
       "    <tr>\n",
       "      <th>315</th>\n",
       "      <td>Dom Joyce</td>\n",
       "      <td>0</td>\n",
       "      <td>1</td>\n",
       "      <td>1.0</td>\n",
       "      <td>0.00</td>\n",
       "      <td>0.00</td>\n",
       "    </tr>\n",
       "    <tr>\n",
       "      <th>316</th>\n",
       "      <td>Dominic Blampied</td>\n",
       "      <td>0</td>\n",
       "      <td>1</td>\n",
       "      <td>1.0</td>\n",
       "      <td>0.00</td>\n",
       "      <td>0.00</td>\n",
       "    </tr>\n",
       "    <tr>\n",
       "      <th>1059</th>\n",
       "      <td>Simandeep Singh</td>\n",
       "      <td>0</td>\n",
       "      <td>7</td>\n",
       "      <td>1.0</td>\n",
       "      <td>0.00</td>\n",
       "      <td>0.00</td>\n",
       "    </tr>\n",
       "    <tr>\n",
       "      <th>534</th>\n",
       "      <td>Johan van der Wath</td>\n",
       "      <td>0</td>\n",
       "      <td>1</td>\n",
       "      <td>NaN</td>\n",
       "      <td>NaN</td>\n",
       "      <td>0.00</td>\n",
       "    </tr>\n",
       "    <tr>\n",
       "      <th>517</th>\n",
       "      <td>Jayden Seales</td>\n",
       "      <td>0</td>\n",
       "      <td>2</td>\n",
       "      <td>NaN</td>\n",
       "      <td>NaN</td>\n",
       "      <td>0.00</td>\n",
       "    </tr>\n",
       "  </tbody>\n",
       "</table>\n",
       "<p>1246 rows × 6 columns</p>\n",
       "</div>"
      ],
      "text/plain": [
       "                     bat  runs  balls  dismissals    avg   rpo\n",
       "1203         Virat Kohli  4593   5086        73.0  62.92  5.42\n",
       "934         Rohit Sharma  3825   4311        67.0  57.09  5.32\n",
       "690       Martin Guptill  2706   2866        49.0  55.22  5.67\n",
       "1115         Tamim Iqbal  2632   3259        64.0  41.12  4.85\n",
       "0         AB de Villiers  2569   2815        42.0  61.17  5.48\n",
       "...                  ...   ...    ...         ...    ...   ...\n",
       "315            Dom Joyce     0      1         1.0   0.00  0.00\n",
       "316     Dominic Blampied     0      1         1.0   0.00  0.00\n",
       "1059     Simandeep Singh     0      7         1.0   0.00  0.00\n",
       "534   Johan van der Wath     0      1         NaN    NaN  0.00\n",
       "517        Jayden Seales     0      2         NaN    NaN  0.00\n",
       "\n",
       "[1246 rows x 6 columns]"
      ]
     },
     "execution_count": 20,
     "metadata": {},
     "output_type": "execute_result"
    }
   ],
   "source": [
    "finalresult"
   ]
  }
 ],
 "metadata": {
  "kernelspec": {
   "display_name": "Python 3 (ipykernel)",
   "language": "python",
   "name": "python3"
  },
  "language_info": {
   "codemirror_mode": {
    "name": "ipython",
    "version": 3
   },
   "file_extension": ".py",
   "mimetype": "text/x-python",
   "name": "python",
   "nbconvert_exporter": "python",
   "pygments_lexer": "ipython3",
   "version": "3.11.1"
  }
 },
 "nbformat": 4,
 "nbformat_minor": 5
}
