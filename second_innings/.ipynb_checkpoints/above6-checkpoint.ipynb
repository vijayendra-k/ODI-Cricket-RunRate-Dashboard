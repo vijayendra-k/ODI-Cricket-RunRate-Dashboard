{
 "cells": [
  {
   "cell_type": "markdown",
   "id": "98a3670c",
   "metadata": {},
   "source": [
    "Imported down all the necessary libraries which is thankfully just Pandas"
   ]
  },
  {
   "cell_type": "code",
   "execution_count": 1,
   "id": "d354d5f9",
   "metadata": {},
   "outputs": [],
   "source": [
    "import pandas as pd"
   ]
  },
  {
   "cell_type": "markdown",
   "id": "9a94a22d",
   "metadata": {},
   "source": [
    "Read the dataset using Pandas read_csv feature"
   ]
  },
  {
   "cell_type": "code",
   "execution_count": 2,
   "id": "34b65a8d",
   "metadata": {},
   "outputs": [
    {
     "name": "stderr",
     "output_type": "stream",
     "text": [
      "C:\\Users\\Vijay\\AppData\\Local\\Temp\\ipykernel_8612\\2538919985.py:1: DtypeWarning: Columns (41,52,53) have mixed types. Specify dtype option on import or set low_memory=False.\n",
      "  dataset=pd.read_csv('bbb_odi_data.csv')\n"
     ]
    }
   ],
   "source": [
    "dataset=pd.read_csv('bbb_odi_data.csv')"
   ]
  },
  {
   "cell_type": "markdown",
   "id": "612d1293",
   "metadata": {},
   "source": [
    "Filtered out the dataset to get the instances only where the Current run rate was <=5 during the course of the game"
   ]
  },
  {
   "cell_type": "code",
   "execution_count": 3,
   "id": "4f4eb1d3",
   "metadata": {},
   "outputs": [],
   "source": [
    "dataset=dataset[dataset['inns']==2]\n",
    "resultdf=dataset[(dataset['inns_rrr']>=6.00)]"
   ]
  },
  {
   "cell_type": "markdown",
   "id": "e798d74a",
   "metadata": {},
   "source": [
    "An unnecessary column has been deleted"
   ]
  },
  {
   "cell_type": "code",
   "execution_count": 4,
   "id": "a2c21e23",
   "metadata": {},
   "outputs": [],
   "source": [
    "# resultdf.drop(columns='Unnamed: 0',index=1,inplace=True)"
   ]
  },
  {
   "cell_type": "markdown",
   "id": "350ea86c",
   "metadata": {},
   "source": [
    "There are several columns and I chose only the ones meaningful to the related query by using a list."
   ]
  },
  {
   "cell_type": "code",
   "execution_count": 5,
   "id": "9c2e2817",
   "metadata": {},
   "outputs": [],
   "source": [
    "req_cols=['bat','batruns','ballfaced']"
   ]
  },
  {
   "cell_type": "markdown",
   "id": "b853168e",
   "metadata": {},
   "source": [
    "Now, my dataset is filtered out to get only the required columns"
   ]
  },
  {
   "cell_type": "code",
   "execution_count": 6,
   "id": "8720ccc5",
   "metadata": {},
   "outputs": [],
   "source": [
    "result=resultdf[req_cols]"
   ]
  },
  {
   "cell_type": "markdown",
   "id": "8019f3bd",
   "metadata": {},
   "source": [
    "Grouped sum of the required columns gives us the overall aggregate of the data. I've reset the columns as well to include the names as a row value in the dataset."
   ]
  },
  {
   "cell_type": "code",
   "execution_count": 7,
   "id": "d76f6adf",
   "metadata": {},
   "outputs": [],
   "source": [
    "grouped=result.groupby(['bat']).sum().reset_index()"
   ]
  },
  {
   "cell_type": "code",
   "execution_count": 8,
   "id": "dcfd3d13",
   "metadata": {},
   "outputs": [
    {
     "data": {
      "text/html": [
       "<div>\n",
       "<style scoped>\n",
       "    .dataframe tbody tr th:only-of-type {\n",
       "        vertical-align: middle;\n",
       "    }\n",
       "\n",
       "    .dataframe tbody tr th {\n",
       "        vertical-align: top;\n",
       "    }\n",
       "\n",
       "    .dataframe thead th {\n",
       "        text-align: right;\n",
       "    }\n",
       "</style>\n",
       "<table border=\"1\" class=\"dataframe\">\n",
       "  <thead>\n",
       "    <tr style=\"text-align: right;\">\n",
       "      <th></th>\n",
       "      <th>bat</th>\n",
       "      <th>batruns</th>\n",
       "      <th>ballfaced</th>\n",
       "    </tr>\n",
       "  </thead>\n",
       "  <tbody>\n",
       "    <tr>\n",
       "      <th>0</th>\n",
       "      <td>AB de Villiers</td>\n",
       "      <td>1637</td>\n",
       "      <td>1610</td>\n",
       "    </tr>\n",
       "    <tr>\n",
       "      <th>1</th>\n",
       "      <td>Aamer Yamin</td>\n",
       "      <td>94</td>\n",
       "      <td>95</td>\n",
       "    </tr>\n",
       "    <tr>\n",
       "      <th>2</th>\n",
       "      <td>Aamir Kaleem</td>\n",
       "      <td>13</td>\n",
       "      <td>16</td>\n",
       "    </tr>\n",
       "    <tr>\n",
       "      <th>3</th>\n",
       "      <td>Aarif Sheikh</td>\n",
       "      <td>332</td>\n",
       "      <td>442</td>\n",
       "    </tr>\n",
       "    <tr>\n",
       "      <th>4</th>\n",
       "      <td>Aaron Finch</td>\n",
       "      <td>644</td>\n",
       "      <td>758</td>\n",
       "    </tr>\n",
       "    <tr>\n",
       "      <th>...</th>\n",
       "      <td>...</td>\n",
       "      <td>...</td>\n",
       "      <td>...</td>\n",
       "    </tr>\n",
       "    <tr>\n",
       "      <th>1391</th>\n",
       "      <td>Ziaur Rahman</td>\n",
       "      <td>51</td>\n",
       "      <td>34</td>\n",
       "    </tr>\n",
       "    <tr>\n",
       "      <th>1392</th>\n",
       "      <td>Zubin Surkari</td>\n",
       "      <td>84</td>\n",
       "      <td>153</td>\n",
       "    </tr>\n",
       "    <tr>\n",
       "      <th>1393</th>\n",
       "      <td>Zulfiqar Babar</td>\n",
       "      <td>16</td>\n",
       "      <td>18</td>\n",
       "    </tr>\n",
       "    <tr>\n",
       "      <th>1394</th>\n",
       "      <td>Zulqarnain Haider</td>\n",
       "      <td>31</td>\n",
       "      <td>35</td>\n",
       "    </tr>\n",
       "    <tr>\n",
       "      <th>1395</th>\n",
       "      <td>Zunaed Siddique</td>\n",
       "      <td>306</td>\n",
       "      <td>381</td>\n",
       "    </tr>\n",
       "  </tbody>\n",
       "</table>\n",
       "<p>1396 rows × 3 columns</p>\n",
       "</div>"
      ],
      "text/plain": [
       "                    bat  batruns  ballfaced\n",
       "0        AB de Villiers     1637       1610\n",
       "1           Aamer Yamin       94         95\n",
       "2          Aamir Kaleem       13         16\n",
       "3          Aarif Sheikh      332        442\n",
       "4           Aaron Finch      644        758\n",
       "...                 ...      ...        ...\n",
       "1391       Ziaur Rahman       51         34\n",
       "1392      Zubin Surkari       84        153\n",
       "1393     Zulfiqar Babar       16         18\n",
       "1394  Zulqarnain Haider       31         35\n",
       "1395    Zunaed Siddique      306        381\n",
       "\n",
       "[1396 rows x 3 columns]"
      ]
     },
     "execution_count": 8,
     "metadata": {},
     "output_type": "execute_result"
    }
   ],
   "source": [
    "grouped"
   ]
  },
  {
   "cell_type": "markdown",
   "id": "fd0d0ec2",
   "metadata": {},
   "source": [
    "I've used this different approach to sum the dismissals because there are some run out dismissals and not always it has been the striker who has gotten out, so based on the who_out? column values summation, I've found out the number of dismissals in this specific filter. "
   ]
  },
  {
   "cell_type": "code",
   "execution_count": 9,
   "id": "4cecfad5",
   "metadata": {},
   "outputs": [],
   "source": [
    "dis=pd.DataFrame(resultdf['who_out?'].value_counts()).reset_index()"
   ]
  },
  {
   "cell_type": "markdown",
   "id": "5af88dbf",
   "metadata": {},
   "source": [
    "This is an attempt to make a similar column in both the dataframes, and use it for joins later."
   ]
  },
  {
   "cell_type": "code",
   "execution_count": 10,
   "id": "99e88788",
   "metadata": {},
   "outputs": [],
   "source": [
    "dis.rename({'index':'bat'},axis=1,inplace=True)"
   ]
  },
  {
   "cell_type": "code",
   "execution_count": 11,
   "id": "7727902c",
   "metadata": {},
   "outputs": [
    {
     "data": {
      "text/html": [
       "<div>\n",
       "<style scoped>\n",
       "    .dataframe tbody tr th:only-of-type {\n",
       "        vertical-align: middle;\n",
       "    }\n",
       "\n",
       "    .dataframe tbody tr th {\n",
       "        vertical-align: top;\n",
       "    }\n",
       "\n",
       "    .dataframe thead th {\n",
       "        text-align: right;\n",
       "    }\n",
       "</style>\n",
       "<table border=\"1\" class=\"dataframe\">\n",
       "  <thead>\n",
       "    <tr style=\"text-align: right;\">\n",
       "      <th></th>\n",
       "      <th>bat</th>\n",
       "      <th>who_out?</th>\n",
       "    </tr>\n",
       "  </thead>\n",
       "  <tbody>\n",
       "    <tr>\n",
       "      <th>0</th>\n",
       "      <td>MS Dhoni</td>\n",
       "      <td>63</td>\n",
       "    </tr>\n",
       "    <tr>\n",
       "      <th>1</th>\n",
       "      <td>Elton Chigumbura</td>\n",
       "      <td>57</td>\n",
       "    </tr>\n",
       "    <tr>\n",
       "      <th>2</th>\n",
       "      <td>Mushfiqur Rahim</td>\n",
       "      <td>49</td>\n",
       "    </tr>\n",
       "    <tr>\n",
       "      <th>3</th>\n",
       "      <td>Shahid Afridi</td>\n",
       "      <td>48</td>\n",
       "    </tr>\n",
       "    <tr>\n",
       "      <th>4</th>\n",
       "      <td>Shakib Al Hasan</td>\n",
       "      <td>48</td>\n",
       "    </tr>\n",
       "    <tr>\n",
       "      <th>...</th>\n",
       "      <td>...</td>\n",
       "      <td>...</td>\n",
       "    </tr>\n",
       "    <tr>\n",
       "      <th>1306</th>\n",
       "      <td>Navdeep Saini</td>\n",
       "      <td>1</td>\n",
       "    </tr>\n",
       "    <tr>\n",
       "      <th>1307</th>\n",
       "      <td>Morne van Wyk</td>\n",
       "      <td>1</td>\n",
       "    </tr>\n",
       "    <tr>\n",
       "      <th>1308</th>\n",
       "      <td>Akshay Homraj</td>\n",
       "      <td>1</td>\n",
       "    </tr>\n",
       "    <tr>\n",
       "      <th>1309</th>\n",
       "      <td>Luke Woodcock</td>\n",
       "      <td>1</td>\n",
       "    </tr>\n",
       "    <tr>\n",
       "      <th>1310</th>\n",
       "      <td>Matthew Forde</td>\n",
       "      <td>1</td>\n",
       "    </tr>\n",
       "  </tbody>\n",
       "</table>\n",
       "<p>1311 rows × 2 columns</p>\n",
       "</div>"
      ],
      "text/plain": [
       "                   bat  who_out?\n",
       "0             MS Dhoni        63\n",
       "1     Elton Chigumbura        57\n",
       "2      Mushfiqur Rahim        49\n",
       "3        Shahid Afridi        48\n",
       "4      Shakib Al Hasan        48\n",
       "...                ...       ...\n",
       "1306     Navdeep Saini         1\n",
       "1307     Morne van Wyk         1\n",
       "1308     Akshay Homraj         1\n",
       "1309     Luke Woodcock         1\n",
       "1310     Matthew Forde         1\n",
       "\n",
       "[1311 rows x 2 columns]"
      ]
     },
     "execution_count": 11,
     "metadata": {},
     "output_type": "execute_result"
    }
   ],
   "source": [
    "dis"
   ]
  },
  {
   "cell_type": "markdown",
   "id": "fbf7088b",
   "metadata": {},
   "source": [
    "A left join has been performed on the left dataset which is the grouped data and then they've been joined on 'bat' column"
   ]
  },
  {
   "cell_type": "code",
   "execution_count": 12,
   "id": "31d80b1c",
   "metadata": {},
   "outputs": [],
   "source": [
    "finalresult=pd.merge(grouped,dis,how='left',on='bat')"
   ]
  },
  {
   "cell_type": "markdown",
   "id": "40b40cde",
   "metadata": {},
   "source": [
    "Now, they've been sorted by descending order of 'batruns' and this operation has been performed in place to reflect the changes"
   ]
  },
  {
   "cell_type": "code",
   "execution_count": 13,
   "id": "68ac5602",
   "metadata": {},
   "outputs": [],
   "source": [
    "finalresult.sort_values(by='batruns',ascending=False,inplace=True)"
   ]
  },
  {
   "cell_type": "markdown",
   "id": "3f888509",
   "metadata": {},
   "source": [
    "The resultant column names have been renamed for easier interpretation"
   ]
  },
  {
   "cell_type": "code",
   "execution_count": 14,
   "id": "eb7af953",
   "metadata": {},
   "outputs": [],
   "source": [
    "finalresult.rename({'who_out?':'dismissals','batruns':'runs','ballfaced':'balls'},axis=1,inplace=True)"
   ]
  },
  {
   "cell_type": "code",
   "execution_count": 15,
   "id": "bcfe2ccd",
   "metadata": {},
   "outputs": [
    {
     "data": {
      "text/html": [
       "<div>\n",
       "<style scoped>\n",
       "    .dataframe tbody tr th:only-of-type {\n",
       "        vertical-align: middle;\n",
       "    }\n",
       "\n",
       "    .dataframe tbody tr th {\n",
       "        vertical-align: top;\n",
       "    }\n",
       "\n",
       "    .dataframe thead th {\n",
       "        text-align: right;\n",
       "    }\n",
       "</style>\n",
       "<table border=\"1\" class=\"dataframe\">\n",
       "  <thead>\n",
       "    <tr style=\"text-align: right;\">\n",
       "      <th></th>\n",
       "      <th>bat</th>\n",
       "      <th>runs</th>\n",
       "      <th>balls</th>\n",
       "      <th>dismissals</th>\n",
       "    </tr>\n",
       "  </thead>\n",
       "  <tbody>\n",
       "    <tr>\n",
       "      <th>1345</th>\n",
       "      <td>Virat Kohli</td>\n",
       "      <td>3202</td>\n",
       "      <td>3238</td>\n",
       "      <td>46.0</td>\n",
       "    </tr>\n",
       "    <tr>\n",
       "      <th>735</th>\n",
       "      <td>MS Dhoni</td>\n",
       "      <td>2503</td>\n",
       "      <td>3174</td>\n",
       "      <td>63.0</td>\n",
       "    </tr>\n",
       "    <tr>\n",
       "      <th>1050</th>\n",
       "      <td>Rohit Sharma</td>\n",
       "      <td>1923</td>\n",
       "      <td>2068</td>\n",
       "      <td>48.0</td>\n",
       "    </tr>\n",
       "    <tr>\n",
       "      <th>1145</th>\n",
       "      <td>Shakib Al Hasan</td>\n",
       "      <td>1829</td>\n",
       "      <td>2182</td>\n",
       "      <td>48.0</td>\n",
       "    </tr>\n",
       "    <tr>\n",
       "      <th>681</th>\n",
       "      <td>Kumar Sangakkara</td>\n",
       "      <td>1727</td>\n",
       "      <td>1775</td>\n",
       "      <td>37.0</td>\n",
       "    </tr>\n",
       "    <tr>\n",
       "      <th>...</th>\n",
       "      <td>...</td>\n",
       "      <td>...</td>\n",
       "      <td>...</td>\n",
       "      <td>...</td>\n",
       "    </tr>\n",
       "    <tr>\n",
       "      <th>240</th>\n",
       "      <td>Chris Martin</td>\n",
       "      <td>0</td>\n",
       "      <td>2</td>\n",
       "      <td>1.0</td>\n",
       "    </tr>\n",
       "    <tr>\n",
       "      <th>239</th>\n",
       "      <td>Chris Lynn</td>\n",
       "      <td>0</td>\n",
       "      <td>1</td>\n",
       "      <td>1.0</td>\n",
       "    </tr>\n",
       "    <tr>\n",
       "      <th>676</th>\n",
       "      <td>Kjorn Ottley</td>\n",
       "      <td>0</td>\n",
       "      <td>4</td>\n",
       "      <td>1.0</td>\n",
       "    </tr>\n",
       "    <tr>\n",
       "      <th>231</th>\n",
       "      <td>Charlton Tshuma</td>\n",
       "      <td>0</td>\n",
       "      <td>1</td>\n",
       "      <td>1.0</td>\n",
       "    </tr>\n",
       "    <tr>\n",
       "      <th>135</th>\n",
       "      <td>Asif Iqbal</td>\n",
       "      <td>0</td>\n",
       "      <td>1</td>\n",
       "      <td>1.0</td>\n",
       "    </tr>\n",
       "  </tbody>\n",
       "</table>\n",
       "<p>1396 rows × 4 columns</p>\n",
       "</div>"
      ],
      "text/plain": [
       "                   bat  runs  balls  dismissals\n",
       "1345       Virat Kohli  3202   3238        46.0\n",
       "735           MS Dhoni  2503   3174        63.0\n",
       "1050      Rohit Sharma  1923   2068        48.0\n",
       "1145   Shakib Al Hasan  1829   2182        48.0\n",
       "681   Kumar Sangakkara  1727   1775        37.0\n",
       "...                ...   ...    ...         ...\n",
       "240       Chris Martin     0      2         1.0\n",
       "239         Chris Lynn     0      1         1.0\n",
       "676       Kjorn Ottley     0      4         1.0\n",
       "231    Charlton Tshuma     0      1         1.0\n",
       "135         Asif Iqbal     0      1         1.0\n",
       "\n",
       "[1396 rows x 4 columns]"
      ]
     },
     "execution_count": 15,
     "metadata": {},
     "output_type": "execute_result"
    }
   ],
   "source": [
    "finalresult"
   ]
  },
  {
   "cell_type": "markdown",
   "id": "18eb8a7a",
   "metadata": {},
   "source": [
    "Before performing mathematical operations to find out the averages and strike rates, I've actually verified if the data types are suitable for calculations or not. Since both are of the same 'integer' type, it is easier for me to perform the operations."
   ]
  },
  {
   "cell_type": "code",
   "execution_count": 16,
   "id": "7c68694b",
   "metadata": {},
   "outputs": [
    {
     "data": {
      "text/plain": [
       "bat            object\n",
       "runs            int64\n",
       "balls           int64\n",
       "dismissals    float64\n",
       "dtype: object"
      ]
     },
     "execution_count": 16,
     "metadata": {},
     "output_type": "execute_result"
    }
   ],
   "source": [
    "finalresult.dtypes"
   ]
  },
  {
   "cell_type": "markdown",
   "id": "66c5c474",
   "metadata": {},
   "source": [
    "The averages and Runs Per Over (rpo) were calculated from the existing data and were rounded off to the 2 nearest decimal places."
   ]
  },
  {
   "cell_type": "code",
   "execution_count": 17,
   "id": "40ee41a0",
   "metadata": {},
   "outputs": [],
   "source": [
    "finalresult['avg']=(finalresult['runs']/finalresult['dismissals'])\n",
    "finalresult['avg']=round(finalresult['avg'],2)"
   ]
  },
  {
   "cell_type": "code",
   "execution_count": 18,
   "id": "c0cc5e2b",
   "metadata": {},
   "outputs": [],
   "source": [
    "finalresult['rpo']=(finalresult['runs']*6/finalresult['balls'])\n",
    "finalresult['rpo']=round(finalresult['rpo'],2)"
   ]
  },
  {
   "cell_type": "markdown",
   "id": "6a9e0c4a",
   "metadata": {},
   "source": [
    "The end result has been saved to a csv file to use them further for visualizations on tableau"
   ]
  },
  {
   "cell_type": "code",
   "execution_count": 19,
   "id": "67c91703",
   "metadata": {},
   "outputs": [],
   "source": [
    "finalresult.to_csv('above6.csv')"
   ]
  },
  {
   "cell_type": "code",
   "execution_count": 20,
   "id": "4c920fce",
   "metadata": {},
   "outputs": [
    {
     "data": {
      "text/html": [
       "<div>\n",
       "<style scoped>\n",
       "    .dataframe tbody tr th:only-of-type {\n",
       "        vertical-align: middle;\n",
       "    }\n",
       "\n",
       "    .dataframe tbody tr th {\n",
       "        vertical-align: top;\n",
       "    }\n",
       "\n",
       "    .dataframe thead th {\n",
       "        text-align: right;\n",
       "    }\n",
       "</style>\n",
       "<table border=\"1\" class=\"dataframe\">\n",
       "  <thead>\n",
       "    <tr style=\"text-align: right;\">\n",
       "      <th></th>\n",
       "      <th>bat</th>\n",
       "      <th>runs</th>\n",
       "      <th>balls</th>\n",
       "      <th>dismissals</th>\n",
       "      <th>avg</th>\n",
       "      <th>rpo</th>\n",
       "    </tr>\n",
       "  </thead>\n",
       "  <tbody>\n",
       "    <tr>\n",
       "      <th>1345</th>\n",
       "      <td>Virat Kohli</td>\n",
       "      <td>3202</td>\n",
       "      <td>3238</td>\n",
       "      <td>46.0</td>\n",
       "      <td>69.61</td>\n",
       "      <td>5.93</td>\n",
       "    </tr>\n",
       "    <tr>\n",
       "      <th>735</th>\n",
       "      <td>MS Dhoni</td>\n",
       "      <td>2503</td>\n",
       "      <td>3174</td>\n",
       "      <td>63.0</td>\n",
       "      <td>39.73</td>\n",
       "      <td>4.73</td>\n",
       "    </tr>\n",
       "    <tr>\n",
       "      <th>1050</th>\n",
       "      <td>Rohit Sharma</td>\n",
       "      <td>1923</td>\n",
       "      <td>2068</td>\n",
       "      <td>48.0</td>\n",
       "      <td>40.06</td>\n",
       "      <td>5.58</td>\n",
       "    </tr>\n",
       "    <tr>\n",
       "      <th>1145</th>\n",
       "      <td>Shakib Al Hasan</td>\n",
       "      <td>1829</td>\n",
       "      <td>2182</td>\n",
       "      <td>48.0</td>\n",
       "      <td>38.10</td>\n",
       "      <td>5.03</td>\n",
       "    </tr>\n",
       "    <tr>\n",
       "      <th>681</th>\n",
       "      <td>Kumar Sangakkara</td>\n",
       "      <td>1727</td>\n",
       "      <td>1775</td>\n",
       "      <td>37.0</td>\n",
       "      <td>46.68</td>\n",
       "      <td>5.84</td>\n",
       "    </tr>\n",
       "    <tr>\n",
       "      <th>...</th>\n",
       "      <td>...</td>\n",
       "      <td>...</td>\n",
       "      <td>...</td>\n",
       "      <td>...</td>\n",
       "      <td>...</td>\n",
       "      <td>...</td>\n",
       "    </tr>\n",
       "    <tr>\n",
       "      <th>240</th>\n",
       "      <td>Chris Martin</td>\n",
       "      <td>0</td>\n",
       "      <td>2</td>\n",
       "      <td>1.0</td>\n",
       "      <td>0.00</td>\n",
       "      <td>0.00</td>\n",
       "    </tr>\n",
       "    <tr>\n",
       "      <th>239</th>\n",
       "      <td>Chris Lynn</td>\n",
       "      <td>0</td>\n",
       "      <td>1</td>\n",
       "      <td>1.0</td>\n",
       "      <td>0.00</td>\n",
       "      <td>0.00</td>\n",
       "    </tr>\n",
       "    <tr>\n",
       "      <th>676</th>\n",
       "      <td>Kjorn Ottley</td>\n",
       "      <td>0</td>\n",
       "      <td>4</td>\n",
       "      <td>1.0</td>\n",
       "      <td>0.00</td>\n",
       "      <td>0.00</td>\n",
       "    </tr>\n",
       "    <tr>\n",
       "      <th>231</th>\n",
       "      <td>Charlton Tshuma</td>\n",
       "      <td>0</td>\n",
       "      <td>1</td>\n",
       "      <td>1.0</td>\n",
       "      <td>0.00</td>\n",
       "      <td>0.00</td>\n",
       "    </tr>\n",
       "    <tr>\n",
       "      <th>135</th>\n",
       "      <td>Asif Iqbal</td>\n",
       "      <td>0</td>\n",
       "      <td>1</td>\n",
       "      <td>1.0</td>\n",
       "      <td>0.00</td>\n",
       "      <td>0.00</td>\n",
       "    </tr>\n",
       "  </tbody>\n",
       "</table>\n",
       "<p>1396 rows × 6 columns</p>\n",
       "</div>"
      ],
      "text/plain": [
       "                   bat  runs  balls  dismissals    avg   rpo\n",
       "1345       Virat Kohli  3202   3238        46.0  69.61  5.93\n",
       "735           MS Dhoni  2503   3174        63.0  39.73  4.73\n",
       "1050      Rohit Sharma  1923   2068        48.0  40.06  5.58\n",
       "1145   Shakib Al Hasan  1829   2182        48.0  38.10  5.03\n",
       "681   Kumar Sangakkara  1727   1775        37.0  46.68  5.84\n",
       "...                ...   ...    ...         ...    ...   ...\n",
       "240       Chris Martin     0      2         1.0   0.00  0.00\n",
       "239         Chris Lynn     0      1         1.0   0.00  0.00\n",
       "676       Kjorn Ottley     0      4         1.0   0.00  0.00\n",
       "231    Charlton Tshuma     0      1         1.0   0.00  0.00\n",
       "135         Asif Iqbal     0      1         1.0   0.00  0.00\n",
       "\n",
       "[1396 rows x 6 columns]"
      ]
     },
     "execution_count": 20,
     "metadata": {},
     "output_type": "execute_result"
    }
   ],
   "source": [
    "finalresult"
   ]
  }
 ],
 "metadata": {
  "kernelspec": {
   "display_name": "Python 3 (ipykernel)",
   "language": "python",
   "name": "python3"
  },
  "language_info": {
   "codemirror_mode": {
    "name": "ipython",
    "version": 3
   },
   "file_extension": ".py",
   "mimetype": "text/x-python",
   "name": "python",
   "nbconvert_exporter": "python",
   "pygments_lexer": "ipython3",
   "version": "3.11.1"
  }
 },
 "nbformat": 4,
 "nbformat_minor": 5
}
