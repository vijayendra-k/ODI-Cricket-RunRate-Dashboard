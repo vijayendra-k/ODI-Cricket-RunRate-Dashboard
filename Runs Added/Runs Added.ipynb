{
 "cells": [
  {
   "cell_type": "code",
   "execution_count": 1,
   "id": "607d8e09",
   "metadata": {},
   "outputs": [],
   "source": [
    "import pandas as pd"
   ]
  },
  {
   "cell_type": "code",
   "execution_count": 2,
   "id": "19f4fc95",
   "metadata": {},
   "outputs": [
    {
     "name": "stderr",
     "output_type": "stream",
     "text": [
      "C:\\Users\\Vijay\\AppData\\Local\\Temp\\ipykernel_2168\\2762841208.py:1: DtypeWarning: Columns (40,51,52) have mixed types. Specify dtype option on import or set low_memory=False.\n",
      "  df=pd.read_csv('odi_bbb_2005_2024.csv')\n"
     ]
    }
   ],
   "source": [
    "df=pd.read_csv('odi_bbb_2005_2024.csv')"
   ]
  },
  {
   "cell_type": "markdown",
   "id": "78249956",
   "metadata": {},
   "source": [
    "Since I've imported the dataset and performed several operations on it already, I will just pick the required columns of the entire available columns"
   ]
  },
  {
   "cell_type": "code",
   "execution_count": 3,
   "id": "310b0c95",
   "metadata": {},
   "outputs": [
    {
     "data": {
      "text/plain": [
       "Index(['p_match', 'inns', 'bat', 'p_bat', 'team_bat', 'bowl', 'p_bowl',\n",
       "       'team_bowl', 'ball', 'ball_id', 'outcome', 'score', 'out', 'dismissal',\n",
       "       'p_out', 'over', 'noball', 'wide', 'byes', 'legbyes', 'cur_bat_runs',\n",
       "       'cur_bat_bf', 'cur_bowl_ovr', 'cur_bowl_wkts', 'cur_bowl_runs',\n",
       "       'inns_runs', 'inns_wkts', 'inns_balls', 'inns_runs_rem',\n",
       "       'inns_balls_rem', 'inns_rr', 'inns_rrr', 'target', 'max_balls', 'date',\n",
       "       'year', 'ground', 'country', 'winner', 'toss', 'competition',\n",
       "       'bat_hand', 'bowl_style', 'bowl_kind', 'batruns', 'ballfaced',\n",
       "       'bowlruns', 'bat_out', 'wagonX', 'wagonY', 'wagonZone', 'line',\n",
       "       'length', 'shot', 'control', 'predscore', 'wprob'],\n",
       "      dtype='object')"
      ]
     },
     "execution_count": 3,
     "metadata": {},
     "output_type": "execute_result"
    }
   ],
   "source": [
    "df.columns"
   ]
  },
  {
   "cell_type": "code",
   "execution_count": 4,
   "id": "4b53e7a8",
   "metadata": {},
   "outputs": [
    {
     "data": {
      "text/plain": [
       "p_match                 0\n",
       "inns                    0\n",
       "bat                     0\n",
       "p_bat                   0\n",
       "team_bat                0\n",
       "bowl                    0\n",
       "p_bowl                  0\n",
       "team_bowl               0\n",
       "ball                    0\n",
       "ball_id                 0\n",
       "outcome                 0\n",
       "score                   0\n",
       "out                     0\n",
       "dismissal         1286194\n",
       "p_out                   0\n",
       "over                    0\n",
       "noball                  0\n",
       "wide                    0\n",
       "byes                    0\n",
       "legbyes                 0\n",
       "cur_bat_runs            0\n",
       "cur_bat_bf              0\n",
       "cur_bowl_ovr            0\n",
       "cur_bowl_wkts           0\n",
       "cur_bowl_runs           0\n",
       "inns_runs               0\n",
       "inns_wkts               0\n",
       "inns_balls              0\n",
       "inns_runs_rem      716650\n",
       "inns_balls_rem          0\n",
       "inns_rr                 0\n",
       "inns_rrr           716650\n",
       "target             716650\n",
       "max_balls               0\n",
       "date                    0\n",
       "year                    0\n",
       "ground                  0\n",
       "country                 0\n",
       "winner                  0\n",
       "toss                    0\n",
       "competition        604490\n",
       "bat_hand                0\n",
       "bowl_style              0\n",
       "bowl_kind               0\n",
       "batruns                 0\n",
       "ballfaced               0\n",
       "bowlruns                0\n",
       "bat_out                 0\n",
       "wagonX                  0\n",
       "wagonY                  0\n",
       "wagonZone               0\n",
       "line               814092\n",
       "length             813932\n",
       "shot               256492\n",
       "control            261749\n",
       "predscore               0\n",
       "wprob                   0\n",
       "dtype: int64"
      ]
     },
     "execution_count": 4,
     "metadata": {},
     "output_type": "execute_result"
    }
   ],
   "source": [
    "req_cols=['date','bat','inns_runs','inns_wkts']\n",
    "df.isnull().sum()"
   ]
  },
  {
   "cell_type": "code",
   "execution_count": 5,
   "id": "9d7ac4ff",
   "metadata": {},
   "outputs": [],
   "source": [
    "df=df[req_cols]"
   ]
  },
  {
   "cell_type": "markdown",
   "id": "aeff446e",
   "metadata": {},
   "source": [
    "Now, the aim is to find the min/max count of wickets and runs when a player takes strike. It gives us our required data to visualize"
   ]
  },
  {
   "cell_type": "code",
   "execution_count": 6,
   "id": "37af3b7c",
   "metadata": {},
   "outputs": [],
   "source": [
    "df['entry']=df.groupby(by=['date','bat'])['inns_runs'].transform('min')\n",
    "df['arrive_fow']=df.groupby(by=['date','bat'])['inns_wkts'].transform('min')\n",
    "df['exit_fow']=df.groupby(by=['date','bat'])['inns_wkts'].transform('max')\n",
    "df['exit']=df.groupby(by=['date','bat'])['inns_runs'].transform('max')"
   ]
  },
  {
   "cell_type": "markdown",
   "id": "cd893435",
   "metadata": {},
   "source": [
    "Our Added is basically the number of runs added to the team's total when the player is at the crease"
   ]
  },
  {
   "cell_type": "code",
   "execution_count": 7,
   "id": "f37948fa",
   "metadata": {},
   "outputs": [],
   "source": [
    "df['added']=df['exit']-df['entry']"
   ]
  },
  {
   "cell_type": "markdown",
   "id": "ace7fd20",
   "metadata": {},
   "source": [
    "Finding the size will give me the total number of balls faced by a batter in each match, but I want the innings count, so I will map each batter and date combination to 1 which denotes the number of innings."
   ]
  },
  {
   "cell_type": "code",
   "execution_count": 8,
   "id": "3e45b471",
   "metadata": {},
   "outputs": [],
   "source": [
    "ans = df.groupby(['bat', 'date']).size().reset_index(name='innings')\n",
    "ans['innings']=1"
   ]
  },
  {
   "cell_type": "markdown",
   "id": "16135205",
   "metadata": {},
   "source": [
    "With my dataset being ready to do the mathematical calculations, all I have to do is find the mean of arrival and exit team score and wickets."
   ]
  },
  {
   "cell_type": "code",
   "execution_count": 9,
   "id": "69f74a1f",
   "metadata": {},
   "outputs": [
    {
     "name": "stderr",
     "output_type": "stream",
     "text": [
      "C:\\Users\\Vijay\\AppData\\Local\\Temp\\ipykernel_2168\\1525163562.py:1: FutureWarning: Indexing with multiple keys (implicitly converted to a tuple of keys) will be deprecated, use a list instead.\n",
      "  res=df.groupby('bat')['bat','entry','arrive_fow','exit','exit_fow','added'].mean().reset_index()\n",
      "C:\\Users\\Vijay\\AppData\\Local\\Temp\\ipykernel_2168\\1525163562.py:1: FutureWarning: The default value of numeric_only in DataFrameGroupBy.mean is deprecated. In a future version, numeric_only will default to False. Either specify numeric_only or select only columns which should be valid for the function.\n",
      "  res=df.groupby('bat')['bat','entry','arrive_fow','exit','exit_fow','added'].mean().reset_index()\n"
     ]
    }
   ],
   "source": [
    "res=df.groupby('bat')['bat','entry','arrive_fow','exit','exit_fow','added'].mean().reset_index()\n",
    "res=res.sort_values(by=['added'],ascending=False)"
   ]
  },
  {
   "cell_type": "code",
   "execution_count": 10,
   "id": "8d46dd20",
   "metadata": {},
   "outputs": [
    {
     "data": {
      "text/html": [
       "<div>\n",
       "<style scoped>\n",
       "    .dataframe tbody tr th:only-of-type {\n",
       "        vertical-align: middle;\n",
       "    }\n",
       "\n",
       "    .dataframe tbody tr th {\n",
       "        vertical-align: top;\n",
       "    }\n",
       "\n",
       "    .dataframe thead th {\n",
       "        text-align: right;\n",
       "    }\n",
       "</style>\n",
       "<table border=\"1\" class=\"dataframe\">\n",
       "  <thead>\n",
       "    <tr style=\"text-align: right;\">\n",
       "      <th></th>\n",
       "      <th>bat</th>\n",
       "      <th>entry</th>\n",
       "      <th>arrive_fow</th>\n",
       "      <th>exit</th>\n",
       "      <th>exit_fow</th>\n",
       "      <th>added</th>\n",
       "    </tr>\n",
       "  </thead>\n",
       "  <tbody>\n",
       "    <tr>\n",
       "      <th>724</th>\n",
       "      <td>John Campbell</td>\n",
       "      <td>1.087156</td>\n",
       "      <td>0.000000</td>\n",
       "      <td>250.784404</td>\n",
       "      <td>1.000000</td>\n",
       "      <td>249.697248</td>\n",
       "    </tr>\n",
       "    <tr>\n",
       "      <th>376</th>\n",
       "      <td>Dawid Malan</td>\n",
       "      <td>15.362225</td>\n",
       "      <td>0.599612</td>\n",
       "      <td>196.156533</td>\n",
       "      <td>3.711514</td>\n",
       "      <td>180.794308</td>\n",
       "    </tr>\n",
       "    <tr>\n",
       "      <th>677</th>\n",
       "      <td>Janneman Malan</td>\n",
       "      <td>0.672897</td>\n",
       "      <td>0.000850</td>\n",
       "      <td>180.141886</td>\n",
       "      <td>2.982158</td>\n",
       "      <td>179.468989</td>\n",
       "    </tr>\n",
       "    <tr>\n",
       "      <th>605</th>\n",
       "      <td>Ibrahim Zadran</td>\n",
       "      <td>3.537037</td>\n",
       "      <td>0.038126</td>\n",
       "      <td>173.098039</td>\n",
       "      <td>2.846405</td>\n",
       "      <td>169.561002</td>\n",
       "    </tr>\n",
       "    <tr>\n",
       "      <th>144</th>\n",
       "      <td>Asa Tribe</td>\n",
       "      <td>44.771341</td>\n",
       "      <td>2.951220</td>\n",
       "      <td>211.600610</td>\n",
       "      <td>5.198171</td>\n",
       "      <td>166.829268</td>\n",
       "    </tr>\n",
       "    <tr>\n",
       "      <th>...</th>\n",
       "      <td>...</td>\n",
       "      <td>...</td>\n",
       "      <td>...</td>\n",
       "      <td>...</td>\n",
       "      <td>...</td>\n",
       "      <td>...</td>\n",
       "    </tr>\n",
       "    <tr>\n",
       "      <th>359</th>\n",
       "      <td>Darren Ramsammy</td>\n",
       "      <td>175.000000</td>\n",
       "      <td>9.000000</td>\n",
       "      <td>175.000000</td>\n",
       "      <td>9.000000</td>\n",
       "      <td>0.000000</td>\n",
       "    </tr>\n",
       "    <tr>\n",
       "      <th>343</th>\n",
       "      <td>Daniel Birrell</td>\n",
       "      <td>218.000000</td>\n",
       "      <td>10.000000</td>\n",
       "      <td>218.000000</td>\n",
       "      <td>10.000000</td>\n",
       "      <td>0.000000</td>\n",
       "    </tr>\n",
       "    <tr>\n",
       "      <th>1671</th>\n",
       "      <td>William O’Rourke</td>\n",
       "      <td>98.000000</td>\n",
       "      <td>9.000000</td>\n",
       "      <td>98.000000</td>\n",
       "      <td>10.000000</td>\n",
       "      <td>0.000000</td>\n",
       "    </tr>\n",
       "    <tr>\n",
       "      <th>526</th>\n",
       "      <td>Graeme McCarter</td>\n",
       "      <td>241.000000</td>\n",
       "      <td>9.000000</td>\n",
       "      <td>241.000000</td>\n",
       "      <td>9.000000</td>\n",
       "      <td>0.000000</td>\n",
       "    </tr>\n",
       "    <tr>\n",
       "      <th>1385</th>\n",
       "      <td>Shabbir Ahmed</td>\n",
       "      <td>192.000000</td>\n",
       "      <td>9.000000</td>\n",
       "      <td>192.000000</td>\n",
       "      <td>9.000000</td>\n",
       "      <td>0.000000</td>\n",
       "    </tr>\n",
       "  </tbody>\n",
       "</table>\n",
       "<p>1712 rows × 6 columns</p>\n",
       "</div>"
      ],
      "text/plain": [
       "                   bat       entry  arrive_fow        exit   exit_fow  \\\n",
       "724      John Campbell    1.087156    0.000000  250.784404   1.000000   \n",
       "376        Dawid Malan   15.362225    0.599612  196.156533   3.711514   \n",
       "677     Janneman Malan    0.672897    0.000850  180.141886   2.982158   \n",
       "605     Ibrahim Zadran    3.537037    0.038126  173.098039   2.846405   \n",
       "144          Asa Tribe   44.771341    2.951220  211.600610   5.198171   \n",
       "...                ...         ...         ...         ...        ...   \n",
       "359    Darren Ramsammy  175.000000    9.000000  175.000000   9.000000   \n",
       "343     Daniel Birrell  218.000000   10.000000  218.000000  10.000000   \n",
       "1671  William O’Rourke   98.000000    9.000000   98.000000  10.000000   \n",
       "526    Graeme McCarter  241.000000    9.000000  241.000000   9.000000   \n",
       "1385     Shabbir Ahmed  192.000000    9.000000  192.000000   9.000000   \n",
       "\n",
       "           added  \n",
       "724   249.697248  \n",
       "376   180.794308  \n",
       "677   179.468989  \n",
       "605   169.561002  \n",
       "144   166.829268  \n",
       "...          ...  \n",
       "359     0.000000  \n",
       "343     0.000000  \n",
       "1671    0.000000  \n",
       "526     0.000000  \n",
       "1385    0.000000  \n",
       "\n",
       "[1712 rows x 6 columns]"
      ]
     },
     "execution_count": 10,
     "metadata": {},
     "output_type": "execute_result"
    }
   ],
   "source": [
    "res"
   ]
  },
  {
   "cell_type": "code",
   "execution_count": 11,
   "id": "fee1cbec",
   "metadata": {},
   "outputs": [
    {
     "name": "stderr",
     "output_type": "stream",
     "text": [
      "C:\\Users\\Vijay\\AppData\\Local\\Temp\\ipykernel_2168\\282506693.py:1: FutureWarning: The default value of numeric_only in DataFrameGroupBy.sum is deprecated. In a future version, numeric_only will default to False. Either specify numeric_only or select only columns which should be valid for the function.\n",
      "  innings=ans.groupby(by=['bat']).sum().reset_index()\n"
     ]
    }
   ],
   "source": [
    "innings=ans.groupby(by=['bat']).sum().reset_index()"
   ]
  },
  {
   "cell_type": "code",
   "execution_count": 12,
   "id": "8c2d3815",
   "metadata": {},
   "outputs": [
    {
     "data": {
      "text/html": [
       "<div>\n",
       "<style scoped>\n",
       "    .dataframe tbody tr th:only-of-type {\n",
       "        vertical-align: middle;\n",
       "    }\n",
       "\n",
       "    .dataframe tbody tr th {\n",
       "        vertical-align: top;\n",
       "    }\n",
       "\n",
       "    .dataframe thead th {\n",
       "        text-align: right;\n",
       "    }\n",
       "</style>\n",
       "<table border=\"1\" class=\"dataframe\">\n",
       "  <thead>\n",
       "    <tr style=\"text-align: right;\">\n",
       "      <th></th>\n",
       "      <th>bat</th>\n",
       "      <th>innings</th>\n",
       "    </tr>\n",
       "  </thead>\n",
       "  <tbody>\n",
       "    <tr>\n",
       "      <th>0</th>\n",
       "      <td>AB de Villiers</td>\n",
       "      <td>218</td>\n",
       "    </tr>\n",
       "    <tr>\n",
       "      <th>1</th>\n",
       "      <td>AM Ghazanfar</td>\n",
       "      <td>1</td>\n",
       "    </tr>\n",
       "    <tr>\n",
       "      <th>2</th>\n",
       "      <td>Aamer Yamin</td>\n",
       "      <td>3</td>\n",
       "    </tr>\n",
       "    <tr>\n",
       "      <th>3</th>\n",
       "      <td>Aamir Kaleem</td>\n",
       "      <td>2</td>\n",
       "    </tr>\n",
       "    <tr>\n",
       "      <th>4</th>\n",
       "      <td>Aarif Sheikh</td>\n",
       "      <td>43</td>\n",
       "    </tr>\n",
       "    <tr>\n",
       "      <th>...</th>\n",
       "      <td>...</td>\n",
       "      <td>...</td>\n",
       "    </tr>\n",
       "    <tr>\n",
       "      <th>1707</th>\n",
       "      <td>Zubayr Hamza</td>\n",
       "      <td>1</td>\n",
       "    </tr>\n",
       "    <tr>\n",
       "      <th>1708</th>\n",
       "      <td>Zubin Surkari</td>\n",
       "      <td>20</td>\n",
       "    </tr>\n",
       "    <tr>\n",
       "      <th>1709</th>\n",
       "      <td>Zulfiqar Babar</td>\n",
       "      <td>5</td>\n",
       "    </tr>\n",
       "    <tr>\n",
       "      <th>1710</th>\n",
       "      <td>Zulqarnain Haider</td>\n",
       "      <td>4</td>\n",
       "    </tr>\n",
       "    <tr>\n",
       "      <th>1711</th>\n",
       "      <td>Zunaed Siddique</td>\n",
       "      <td>52</td>\n",
       "    </tr>\n",
       "  </tbody>\n",
       "</table>\n",
       "<p>1712 rows × 2 columns</p>\n",
       "</div>"
      ],
      "text/plain": [
       "                    bat  innings\n",
       "0        AB de Villiers      218\n",
       "1          AM Ghazanfar        1\n",
       "2           Aamer Yamin        3\n",
       "3          Aamir Kaleem        2\n",
       "4          Aarif Sheikh       43\n",
       "...                 ...      ...\n",
       "1707       Zubayr Hamza        1\n",
       "1708      Zubin Surkari       20\n",
       "1709     Zulfiqar Babar        5\n",
       "1710  Zulqarnain Haider        4\n",
       "1711    Zunaed Siddique       52\n",
       "\n",
       "[1712 rows x 2 columns]"
      ]
     },
     "execution_count": 12,
     "metadata": {},
     "output_type": "execute_result"
    }
   ],
   "source": [
    "innings"
   ]
  },
  {
   "cell_type": "markdown",
   "id": "8ce70dc5",
   "metadata": {},
   "source": [
    "With innings count and entry arrival stats being in different datasets, I will merge them into a single dataset by having the 'bat' as common index."
   ]
  },
  {
   "cell_type": "code",
   "execution_count": 13,
   "id": "6b985085",
   "metadata": {},
   "outputs": [],
   "source": [
    "final=pd.merge(innings,res,on='bat')"
   ]
  },
  {
   "cell_type": "code",
   "execution_count": 14,
   "id": "27c1975a",
   "metadata": {},
   "outputs": [],
   "source": [
    "final['entry']=round(final['entry'],0)\n",
    "final['exit']=round(final['exit'],0)\n",
    "final['added']=round(final['added'],0)"
   ]
  },
  {
   "cell_type": "code",
   "execution_count": 15,
   "id": "83439493",
   "metadata": {},
   "outputs": [],
   "source": [
    "final.to_csv('runs_added.csv')"
   ]
  }
 ],
 "metadata": {
  "kernelspec": {
   "display_name": "Python 3 (ipykernel)",
   "language": "python",
   "name": "python3"
  },
  "language_info": {
   "codemirror_mode": {
    "name": "ipython",
    "version": 3
   },
   "file_extension": ".py",
   "mimetype": "text/x-python",
   "name": "python",
   "nbconvert_exporter": "python",
   "pygments_lexer": "ipython3",
   "version": "3.11.1"
  }
 },
 "nbformat": 4,
 "nbformat_minor": 5
}
