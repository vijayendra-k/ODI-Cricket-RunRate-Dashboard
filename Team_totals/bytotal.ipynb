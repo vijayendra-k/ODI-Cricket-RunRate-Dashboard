{
 "cells": [
  {
   "cell_type": "code",
   "execution_count": 1,
   "id": "86d71e4b",
   "metadata": {},
   "outputs": [],
   "source": [
    "import pandas as pd"
   ]
  },
  {
   "cell_type": "code",
   "execution_count": null,
   "id": "ff6bf2f6",
   "metadata": {},
   "outputs": [],
   "source": [
    "dataset=pd.read_csv('C:/Users/Vijay/OneDrive/Documents/Others/ODI-BBB/odi_refined_data.csv')"
   ]
  },
  {
   "cell_type": "code",
   "execution_count": null,
   "id": "b0eab48f",
   "metadata": {},
   "outputs": [],
   "source": [
    "dataset"
   ]
  },
  {
   "cell_type": "code",
   "execution_count": null,
   "id": "ca763b6f",
   "metadata": {},
   "outputs": [],
   "source": [
    "dataset['dismissal'].value_counts()"
   ]
  },
  {
   "cell_type": "code",
   "execution_count": null,
   "id": "53379485",
   "metadata": {},
   "outputs": [],
   "source": [
    "dataset['1s']=dataset['batruns'].apply(lambda x: 1 if x==1 else 0)\n",
    "dataset['2s']=dataset['batruns'].apply(lambda x: 1 if x==2 else 0)\n",
    "dataset['3s']=dataset['batruns'].apply(lambda x: 1 if x==3 else 0)\n",
    "dataset['4s']=dataset['batruns'].apply(lambda x: 1 if x==4 else 0)\n",
    "dataset['5s']=dataset['batruns'].apply(lambda x: 1 if x==5 else 0)\n",
    "dataset['6s']=dataset['batruns'].apply(lambda x: 1 if x==6 else 0)\n",
    "dataset['dots']=0\n",
    "dataset.loc[(dataset['batruns']==0) & (dataset['ballfaced'])==1,'dots']=1"
   ]
  },
  {
   "cell_type": "code",
   "execution_count": null,
   "id": "c168ff97",
   "metadata": {},
   "outputs": [],
   "source": [
    "wickets_earned=['caught','bowled','leg before wicket','stumped','hit wicket']"
   ]
  },
  {
   "cell_type": "code",
   "execution_count": null,
   "id": "537e8ef7",
   "metadata": {},
   "outputs": [],
   "source": [
    "dataset.columns"
   ]
  },
  {
   "cell_type": "code",
   "execution_count": null,
   "id": "d3b14caa",
   "metadata": {},
   "outputs": [],
   "source": [
    "aggfunc={\n",
    "    'inns_runs':'max',\n",
    "    'inns_wkts':'max',\n",
    "    'inns_balls':'max'\n",
    "}"
   ]
  },
  {
   "cell_type": "code",
   "execution_count": null,
   "id": "bcb5bc5d",
   "metadata": {},
   "outputs": [],
   "source": [
    "oditotals=dataset.groupby(['date','inns','team_bat']).agg(aggfunc).reset_index()"
   ]
  },
  {
   "cell_type": "code",
   "execution_count": null,
   "id": "8a27bb3c",
   "metadata": {},
   "outputs": [],
   "source": [
    "oditotals"
   ]
  },
  {
   "cell_type": "code",
   "execution_count": null,
   "id": "7f57ca37",
   "metadata": {},
   "outputs": [],
   "source": [
    "dataset"
   ]
  },
  {
   "cell_type": "code",
   "execution_count": null,
   "id": "c66a1c5f",
   "metadata": {},
   "outputs": [],
   "source": [
    "comes={\n",
    "    'batruns':'sum',\n",
    "    'ballfaced':'sum',\n",
    "    'ball_id':'min'\n",
    "}\n",
    "entry=dataset.groupby(['date','inns','team_bat','bat']).agg(comes).reset_index()"
   ]
  },
  {
   "cell_type": "code",
   "execution_count": null,
   "id": "3858b376",
   "metadata": {},
   "outputs": [],
   "source": [
    "entry"
   ]
  },
  {
   "cell_type": "code",
   "execution_count": null,
   "id": "32441785",
   "metadata": {},
   "outputs": [],
   "source": [
    "goes={\n",
    "    'batruns':'sum',\n",
    "    'ballfaced':'sum',\n",
    "    'ball_id':'max'\n",
    "}\n",
    "exit=dataset.groupby(['date','inns','team_bat','bat']).agg(goes).reset_index()"
   ]
  },
  {
   "cell_type": "code",
   "execution_count": null,
   "id": "51a4a535",
   "metadata": {},
   "outputs": [],
   "source": [
    "entry.rename(mapper={'ball_id':'entry_ball'},axis=1,inplace=True)"
   ]
  },
  {
   "cell_type": "code",
   "execution_count": null,
   "id": "8ad42df5",
   "metadata": {},
   "outputs": [],
   "source": [
    "exit"
   ]
  },
  {
   "cell_type": "code",
   "execution_count": null,
   "id": "1eb268bf",
   "metadata": {},
   "outputs": [],
   "source": [
    "exit.rename(mapper={'ball_id':'exit_ball'},axis=1,inplace=True)"
   ]
  },
  {
   "cell_type": "code",
   "execution_count": null,
   "id": "74a21f9f",
   "metadata": {},
   "outputs": [],
   "source": [
    "entry"
   ]
  },
  {
   "cell_type": "code",
   "execution_count": null,
   "id": "e3c04abc",
   "metadata": {},
   "outputs": [],
   "source": [
    "arrivals_exits=pd.merge(entry,exit,on=['date','inns','team_bat','bat','batruns','ballfaced'],how='inner')"
   ]
  },
  {
   "cell_type": "code",
   "execution_count": null,
   "id": "6e612e85",
   "metadata": {},
   "outputs": [],
   "source": [
    "arrivals_exits"
   ]
  },
  {
   "cell_type": "code",
   "execution_count": null,
   "id": "1d6c11a0",
   "metadata": {},
   "outputs": [],
   "source": []
  }
 ],
 "metadata": {
  "kernelspec": {
   "display_name": "Python 3 (ipykernel)",
   "language": "python",
   "name": "python3"
  },
  "language_info": {
   "codemirror_mode": {
    "name": "ipython",
    "version": 3
   },
   "file_extension": ".py",
   "mimetype": "text/x-python",
   "name": "python",
   "nbconvert_exporter": "python",
   "pygments_lexer": "ipython3",
   "version": "3.11.1"
  }
 },
 "nbformat": 4,
 "nbformat_minor": 5
}
